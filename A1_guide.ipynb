{
 "cells": [
  {
   "cell_type": "code",
   "execution_count": 1,
   "metadata": {},
   "outputs": [
    {
     "name": "stderr",
     "output_type": "stream",
     "text": [
      "[NbConvertApp] Converting notebook A1_guide.ipynb to script\n",
      "[NbConvertApp] Writing 2684 bytes to A1_guide.py\n"
     ]
    },
    {
     "data": {
      "text/plain": [
       "\"\\nyou'll only be using np and pd to refer, whenever u use these modules\\nif you don't say 'as np' or 'as pd', then when you refer to certain things, you'll\\nhave to say numpy.arange(w.e goes here) instead of np.arange()\\n\""
      ]
     },
     "execution_count": 1,
     "metadata": {},
     "output_type": "execute_result"
    }
   ],
   "source": [
    "!jupyter nbconvert --to script A1_guide.ipynb\n",
    "# ignore this top script, it just converts things to .py files for me from notebook files\n",
    "\"\"\"\n",
    "Created on Fri Jul 26 18:35:01 2019\n",
    "@author: avocado\n",
    "Estimated Completion Time: 20 minutes\n",
    "\"\"\"\n",
    "\n",
    "\"\"\"\n",
    "We're going to be working with dataframes\n",
    "import the necessary modules:\n",
    "numpy\n",
    "pandas\n",
    "\"\"\"\n",
    "import numpy as np\n",
    "import pandas as pd\n",
    "\n",
    "\"\"\"\n",
    "you'll only be using np and pd to refer, whenever u use these modules\n",
    "if you don't say 'as np' or 'as pd', then when you refer to certain things, you'll\n",
    "have to say numpy.arange(w.e goes here) instead of np.arange()\n",
    "\"\"\""
   ]
  },
  {
   "cell_type": "code",
   "execution_count": 5,
   "metadata": {},
   "outputs": [
    {
     "name": "stdout",
     "output_type": "stream",
     "text": [
      "1\n",
      "2\n",
      "3\n",
      "4\n",
      "5\n"
     ]
    }
   ],
   "source": [
    "for _ in (number+1 for number in range(5)):\n",
    "    print(_)"
   ]
  },
  {
   "cell_type": "code",
   "execution_count": 44,
   "metadata": {},
   "outputs": [
    {
     "name": "stdout",
     "output_type": "stream",
     "text": [
      "[0. 0. 0. 0. 0. 0. 0. 0. 0. 0.]\n",
      "[1. 1. 1. 1. 1. 1. 1. 1. 1. 1.]\n",
      "[0 1 2]\n",
      "[0. 1. 2.]\n",
      "[3 4 5 6 7 8]\n",
      "[[7 7 7 7]\n",
      " [7 7 7 7]\n",
      " [7 7 7 7]]\n"
     ]
    }
   ],
   "source": [
    "# we'll be using pandas to create dataframes and manipulate them and\n",
    "# numpy to manipulate the data in them\n",
    "\n",
    "# most np things deal with arrays and number stuff\n",
    "zer = np.zeros(10)\n",
    "onne = np.ones(10)\n",
    "print(zer)\n",
    "print(onne)\n",
    "# arange is also useful for your arsenal\n",
    "print(np.arange(3))\n",
    "print(np.arange(3.))\n",
    "print(np.arange(3,9))\n",
    "# these are both 1d stuff. you can arrange\n",
    "mult_arr = np.full((3, 4), 7)\n",
    "print(mult_arr)"
   ]
  },
  {
   "cell_type": "code",
   "execution_count": 47,
   "metadata": {},
   "outputs": [
    {
     "name": "stdout",
     "output_type": "stream",
     "text": [
      "['Foop']\n",
      "['a', 'b', 'c']\n",
      "['a', 'b', 'c', 'string!!!']\n",
      "[0, 1, 2, 3, 4, 5, 6, 7, 8, 9, 10, 11]\n"
     ]
    }
   ],
   "source": [
    "# you can also create ur own lists\n",
    "listy = []\n",
    "# empty list\n",
    "listy.append('Foop')\n",
    "print(listy)\n",
    "lister = ['a','b','c']\n",
    "print(lister)\n",
    "strin='string!!!'\n",
    "lister.append(strin)\n",
    "print(lister)\n",
    "\n",
    "# numbers work too\n",
    "numlist=[]\n",
    "for i in range(12):\n",
    "    numlist.append(i)\n",
    "#     print(i)\n",
    "print(numlist)\n",
    "numlist.append(zer)"
   ]
  },
  {
   "cell_type": "code",
   "execution_count": 37,
   "metadata": {},
   "outputs": [
    {
     "data": {
      "text/html": [
       "<div>\n",
       "<style scoped>\n",
       "    .dataframe tbody tr th:only-of-type {\n",
       "        vertical-align: middle;\n",
       "    }\n",
       "\n",
       "    .dataframe tbody tr th {\n",
       "        vertical-align: top;\n",
       "    }\n",
       "\n",
       "    .dataframe thead th {\n",
       "        text-align: right;\n",
       "    }\n",
       "</style>\n",
       "<table border=\"1\" class=\"dataframe\">\n",
       "  <thead>\n",
       "    <tr style=\"text-align: right;\">\n",
       "      <th></th>\n",
       "      <th>name1</th>\n",
       "      <th>name2</th>\n",
       "    </tr>\n",
       "  </thead>\n",
       "  <tbody>\n",
       "    <tr>\n",
       "      <th>0</th>\n",
       "      <td>A</td>\n",
       "      <td>12</td>\n",
       "    </tr>\n",
       "    <tr>\n",
       "      <th>1</th>\n",
       "      <td>B</td>\n",
       "      <td>45</td>\n",
       "    </tr>\n",
       "    <tr>\n",
       "      <th>2</th>\n",
       "      <td>C</td>\n",
       "      <td>900</td>\n",
       "    </tr>\n",
       "  </tbody>\n",
       "</table>\n",
       "</div>"
      ],
      "text/plain": [
       "  name1 name2\n",
       "0     A    12\n",
       "1     B    45\n",
       "2     C   900"
      ]
     },
     "execution_count": 37,
     "metadata": {},
     "output_type": "execute_result"
    }
   ],
   "source": [
    "# now lets mess around with pd\n",
    "# normally i use csvs for pd, bc it's easy to manage,\n",
    "# but you should know how to make one\n",
    "\n",
    "# there are a couple ways to create a dataframe:\n",
    "# list of lists\n",
    "dat=[['A','12'],['B',45],['C',900]]\n",
    "# if u print this as is, u'll get an array which looks ugly\n",
    "# we want to convert this to a dataframe\n",
    "\n",
    "# dat=pd.DataFrame(dat,columns=['Letter','Num'])\n",
    "\n",
    "# now if u print it, it looks pretty (jupyter notebook)\n",
    "# say u already had an array. how would u make that array the names of the columns?\n",
    "d_col=['name1','name2']\n",
    "dat=pd.DataFrame(dat,columns=d_col)\n",
    "dat"
   ]
  },
  {
   "cell_type": "code",
   "execution_count": 48,
   "metadata": {},
   "outputs": [
    {
     "data": {
      "text/html": [
       "<div>\n",
       "<style scoped>\n",
       "    .dataframe tbody tr th:only-of-type {\n",
       "        vertical-align: middle;\n",
       "    }\n",
       "\n",
       "    .dataframe tbody tr th {\n",
       "        vertical-align: top;\n",
       "    }\n",
       "\n",
       "    .dataframe thead th {\n",
       "        text-align: right;\n",
       "    }\n",
       "</style>\n",
       "<table border=\"1\" class=\"dataframe\">\n",
       "  <thead>\n",
       "    <tr style=\"text-align: right;\">\n",
       "      <th></th>\n",
       "      <th>Yip</th>\n",
       "      <th>Nop</th>\n",
       "    </tr>\n",
       "  </thead>\n",
       "  <tbody>\n",
       "    <tr>\n",
       "      <th>0</th>\n",
       "      <td>A</td>\n",
       "      <td>0</td>\n",
       "    </tr>\n",
       "    <tr>\n",
       "      <th>1</th>\n",
       "      <td>Z</td>\n",
       "      <td>81</td>\n",
       "    </tr>\n",
       "    <tr>\n",
       "      <th>2</th>\n",
       "      <td>B</td>\n",
       "      <td>9</td>\n",
       "    </tr>\n",
       "    <tr>\n",
       "      <th>3</th>\n",
       "      <td>Y</td>\n",
       "      <td>38</td>\n",
       "    </tr>\n",
       "  </tbody>\n",
       "</table>\n",
       "</div>"
      ],
      "text/plain": [
       "  Yip  Nop\n",
       "0   A    0\n",
       "1   Z   81\n",
       "2   B    9\n",
       "3   Y   38"
      ]
     },
     "execution_count": 48,
     "metadata": {},
     "output_type": "execute_result"
    }
   ],
   "source": [
    "# the other way is as follows:\n",
    "data = {'Yip':['A', 'Z', 'B', 'Y'], 'Nop':[0, 81, 9, 38]} \n",
    "  \n",
    "# Create DataFrame \n",
    "df = pd.DataFrame(data) \n",
    "  \n",
    "# Print the output. \n",
    "df "
   ]
  },
  {
   "cell_type": "code",
   "execution_count": 41,
   "metadata": {},
   "outputs": [
    {
     "data": {
      "text/html": [
       "<div>\n",
       "<style scoped>\n",
       "    .dataframe tbody tr th:only-of-type {\n",
       "        vertical-align: middle;\n",
       "    }\n",
       "\n",
       "    .dataframe tbody tr th {\n",
       "        vertical-align: top;\n",
       "    }\n",
       "\n",
       "    .dataframe thead th {\n",
       "        text-align: right;\n",
       "    }\n",
       "</style>\n",
       "<table border=\"1\" class=\"dataframe\">\n",
       "  <thead>\n",
       "    <tr style=\"text-align: right;\">\n",
       "      <th></th>\n",
       "      <th>name2</th>\n",
       "      <th>name3</th>\n",
       "    </tr>\n",
       "    <tr>\n",
       "      <th>name1</th>\n",
       "      <th></th>\n",
       "      <th></th>\n",
       "    </tr>\n",
       "  </thead>\n",
       "  <tbody>\n",
       "    <tr>\n",
       "      <th>A</th>\n",
       "      <td>12</td>\n",
       "      <td>foo</td>\n",
       "    </tr>\n",
       "    <tr>\n",
       "      <th>B</th>\n",
       "      <td>45</td>\n",
       "      <td>76</td>\n",
       "    </tr>\n",
       "    <tr>\n",
       "      <th>C</th>\n",
       "      <td>900</td>\n",
       "      <td>noop</td>\n",
       "    </tr>\n",
       "  </tbody>\n",
       "</table>\n",
       "</div>"
      ],
      "text/plain": [
       "      name2 name3\n",
       "name1            \n",
       "A        12   foo\n",
       "B        45    76\n",
       "C       900  noop"
      ]
     },
     "execution_count": 41,
     "metadata": {},
     "output_type": "execute_result"
    }
   ],
   "source": [
    "# suppose we have some other data to add\n",
    "moredat=['foo',76,'noop']\n",
    "# how to add column\n",
    "dat['name3']=moredat\n",
    "# dat\n",
    "# now say we want to know what kind of table we have with us. what should we do?\n",
    "# if we want to know datatypes:\n",
    "# dat.dtypes or dat.info()\n",
    "\n",
    "# note that while you only made a table with 3 columns, \n",
    "# you have a fourth at the beginning. That one's the index.\n",
    "# If u want to use name1 as the index, here's what we have to do:\n",
    "\n",
    "dat.set_index('name1',inplace=True)\n",
    "dat"
   ]
  }
 ],
 "metadata": {
  "kernelspec": {
   "display_name": "Python 3",
   "language": "python",
   "name": "python3"
  },
  "language_info": {
   "codemirror_mode": {
    "name": "ipython",
    "version": 3
   },
   "file_extension": ".py",
   "mimetype": "text/x-python",
   "name": "python",
   "nbconvert_exporter": "python",
   "pygments_lexer": "ipython3",
   "version": "3.6.8"
  }
 },
 "nbformat": 4,
 "nbformat_minor": 2
}

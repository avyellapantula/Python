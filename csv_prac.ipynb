{
 "cells": [
  {
   "cell_type": "markdown",
   "metadata": {},
   "source": [
    "# GUIDE\n",
    "\n",
    "## Table of Contents\n",
    "- introducing csv and pd.read_csv\n",
    "- how to get first and last few rows of dataframe\n",
    "- iloc\n",
    "- very basic loc\n",
    "----------------------------------------------------------\n",
    "- Assignment at end"
   ]
  },
  {
   "cell_type": "code",
   "execution_count": 1,
   "metadata": {},
   "outputs": [],
   "source": [
    "import numpy as np\n",
    "import pandas as pd\n",
    "\n",
    "# we be only working w csvs in this one\n"
   ]
  },
  {
   "cell_type": "code",
   "execution_count": 2,
   "metadata": {},
   "outputs": [
    {
     "data": {
      "text/plain": [
       "\"\\nthis line opens the csv and keeps it as a dataframe\\ncalled farm. As soon as u use this command, u can apply whichever pandas dataframe commands you'd like to use on this data. Because farm is now a dataframe.\\n\""
      ]
     },
     "execution_count": 2,
     "metadata": {},
     "output_type": "execute_result"
    }
   ],
   "source": [
    "\n",
    "\"\"\"\n",
    "the csv farm_mkt.csv is a file containing 5 rows and\n",
    "4 columns:\n",
    "Location\n",
    "Intersection\n",
    "Day\n",
    "Type\n",
    "\"\"\"\n",
    "farm = pd.read_csv('farm_mkt.csv')\n",
    "\"\"\"\n",
    "this line opens the csv and keeps it as a dataframe\n",
    "called farm. As soon as u use this command, u can apply whichever pandas dataframe commands you'd like to use on this data. Because farm is now a dataframe.\n",
    "\"\"\"\n"
   ]
  },
  {
   "cell_type": "code",
   "execution_count": 3,
   "metadata": {},
   "outputs": [
    {
     "data": {
      "text/html": [
       "<div>\n",
       "<style scoped>\n",
       "    .dataframe tbody tr th:only-of-type {\n",
       "        vertical-align: middle;\n",
       "    }\n",
       "\n",
       "    .dataframe tbody tr th {\n",
       "        vertical-align: top;\n",
       "    }\n",
       "\n",
       "    .dataframe thead th {\n",
       "        text-align: right;\n",
       "    }\n",
       "</style>\n",
       "<table border=\"1\" class=\"dataframe\">\n",
       "  <thead>\n",
       "    <tr style=\"text-align: right;\">\n",
       "      <th></th>\n",
       "      <th>LOCATION</th>\n",
       "      <th>INTERSECTION</th>\n",
       "      <th>DAY</th>\n",
       "      <th>TYPE</th>\n",
       "    </tr>\n",
       "  </thead>\n",
       "  <tbody>\n",
       "    <tr>\n",
       "      <th>0</th>\n",
       "      <td>Bridgeport</td>\n",
       "      <td>35th &amp; Wallace</td>\n",
       "      <td>Saturday</td>\n",
       "      <td>Weekly</td>\n",
       "    </tr>\n",
       "    <tr>\n",
       "      <th>1</th>\n",
       "      <td>Beverly</td>\n",
       "      <td>W 95th St &amp; S Longwood Dr</td>\n",
       "      <td>Sunday</td>\n",
       "      <td>Weekly</td>\n",
       "    </tr>\n",
       "    <tr>\n",
       "      <th>2</th>\n",
       "      <td>Daley Plaza</td>\n",
       "      <td>W Washington St &amp; N Dearborn St</td>\n",
       "      <td>Thursday</td>\n",
       "      <td>Downtown</td>\n",
       "    </tr>\n",
       "    <tr>\n",
       "      <th>3</th>\n",
       "      <td>Federal Plaza</td>\n",
       "      <td>W Adams St &amp; S Dearborn St</td>\n",
       "      <td>Tuesday</td>\n",
       "      <td>Downtown</td>\n",
       "    </tr>\n",
       "    <tr>\n",
       "      <th>4</th>\n",
       "      <td>Pullman</td>\n",
       "      <td>E 111th Pl &amp; S Cottage Grove Ave</td>\n",
       "      <td>Wednesday</td>\n",
       "      <td>Weekly</td>\n",
       "    </tr>\n",
       "  </tbody>\n",
       "</table>\n",
       "</div>"
      ],
      "text/plain": [
       "        LOCATION                      INTERSECTION        DAY      TYPE\n",
       "0     Bridgeport                    35th & Wallace   Saturday    Weekly\n",
       "1        Beverly         W 95th St & S Longwood Dr     Sunday    Weekly\n",
       "2    Daley Plaza   W Washington St & N Dearborn St   Thursday  Downtown\n",
       "3  Federal Plaza        W Adams St & S Dearborn St    Tuesday  Downtown\n",
       "4        Pullman  E 111th Pl & S Cottage Grove Ave  Wednesday    Weekly"
      ]
     },
     "execution_count": 3,
     "metadata": {},
     "output_type": "execute_result"
    }
   ],
   "source": [
    "# for instance, if you want to see the first few (by default, its 5) lines of the data: use df.head()\n",
    "farm.head()\n",
    "# if you want to see a certain number of the first lines:"
   ]
  },
  {
   "cell_type": "code",
   "execution_count": 4,
   "metadata": {},
   "outputs": [
    {
     "name": "stdout",
     "output_type": "stream",
     "text": [
      "Print the first 7 lines\n"
     ]
    },
    {
     "data": {
      "text/html": [
       "<div>\n",
       "<style scoped>\n",
       "    .dataframe tbody tr th:only-of-type {\n",
       "        vertical-align: middle;\n",
       "    }\n",
       "\n",
       "    .dataframe tbody tr th {\n",
       "        vertical-align: top;\n",
       "    }\n",
       "\n",
       "    .dataframe thead th {\n",
       "        text-align: right;\n",
       "    }\n",
       "</style>\n",
       "<table border=\"1\" class=\"dataframe\">\n",
       "  <thead>\n",
       "    <tr style=\"text-align: right;\">\n",
       "      <th></th>\n",
       "      <th>LOCATION</th>\n",
       "      <th>INTERSECTION</th>\n",
       "      <th>DAY</th>\n",
       "      <th>TYPE</th>\n",
       "    </tr>\n",
       "  </thead>\n",
       "  <tbody>\n",
       "    <tr>\n",
       "      <th>0</th>\n",
       "      <td>Bridgeport</td>\n",
       "      <td>35th &amp; Wallace</td>\n",
       "      <td>Saturday</td>\n",
       "      <td>Weekly</td>\n",
       "    </tr>\n",
       "    <tr>\n",
       "      <th>1</th>\n",
       "      <td>Beverly</td>\n",
       "      <td>W 95th St &amp; S Longwood Dr</td>\n",
       "      <td>Sunday</td>\n",
       "      <td>Weekly</td>\n",
       "    </tr>\n",
       "    <tr>\n",
       "      <th>2</th>\n",
       "      <td>Daley Plaza</td>\n",
       "      <td>W Washington St &amp; N Dearborn St</td>\n",
       "      <td>Thursday</td>\n",
       "      <td>Downtown</td>\n",
       "    </tr>\n",
       "    <tr>\n",
       "      <th>3</th>\n",
       "      <td>Federal Plaza</td>\n",
       "      <td>W Adams St &amp; S Dearborn St</td>\n",
       "      <td>Tuesday</td>\n",
       "      <td>Downtown</td>\n",
       "    </tr>\n",
       "    <tr>\n",
       "      <th>4</th>\n",
       "      <td>Pullman</td>\n",
       "      <td>E 111th Pl &amp; S Cottage Grove Ave</td>\n",
       "      <td>Wednesday</td>\n",
       "      <td>Weekly</td>\n",
       "    </tr>\n",
       "    <tr>\n",
       "      <th>5</th>\n",
       "      <td>Hyde Park</td>\n",
       "      <td>53rd &amp; Hyde Park</td>\n",
       "      <td>Thursday</td>\n",
       "      <td>Weekly</td>\n",
       "    </tr>\n",
       "    <tr>\n",
       "      <th>6</th>\n",
       "      <td>Lincoln Park</td>\n",
       "      <td>W Armitage Ave &amp; N Orchard St</td>\n",
       "      <td>Saturday</td>\n",
       "      <td>Weekly</td>\n",
       "    </tr>\n",
       "  </tbody>\n",
       "</table>\n",
       "</div>"
      ],
      "text/plain": [
       "        LOCATION                      INTERSECTION        DAY      TYPE\n",
       "0     Bridgeport                    35th & Wallace   Saturday    Weekly\n",
       "1        Beverly         W 95th St & S Longwood Dr     Sunday    Weekly\n",
       "2    Daley Plaza   W Washington St & N Dearborn St   Thursday  Downtown\n",
       "3  Federal Plaza        W Adams St & S Dearborn St    Tuesday  Downtown\n",
       "4        Pullman  E 111th Pl & S Cottage Grove Ave  Wednesday    Weekly\n",
       "5      Hyde Park                  53rd & Hyde Park   Thursday    Weekly\n",
       "6   Lincoln Park     W Armitage Ave & N Orchard St   Saturday    Weekly"
      ]
     },
     "execution_count": 4,
     "metadata": {},
     "output_type": "execute_result"
    }
   ],
   "source": [
    "print('Print the first 7 lines')\n",
    "farm.head(7)"
   ]
  },
  {
   "cell_type": "code",
   "execution_count": 5,
   "metadata": {},
   "outputs": [
    {
     "name": "stdout",
     "output_type": "stream",
     "text": [
      "Print the last 5 lines\n"
     ]
    },
    {
     "data": {
      "text/html": [
       "<div>\n",
       "<style scoped>\n",
       "    .dataframe tbody tr th:only-of-type {\n",
       "        vertical-align: middle;\n",
       "    }\n",
       "\n",
       "    .dataframe tbody tr th {\n",
       "        vertical-align: top;\n",
       "    }\n",
       "\n",
       "    .dataframe thead th {\n",
       "        text-align: right;\n",
       "    }\n",
       "</style>\n",
       "<table border=\"1\" class=\"dataframe\">\n",
       "  <thead>\n",
       "    <tr style=\"text-align: right;\">\n",
       "      <th></th>\n",
       "      <th>LOCATION</th>\n",
       "      <th>INTERSECTION</th>\n",
       "      <th>DAY</th>\n",
       "      <th>TYPE</th>\n",
       "    </tr>\n",
       "  </thead>\n",
       "  <tbody>\n",
       "    <tr>\n",
       "      <th>19</th>\n",
       "      <td>La Follette Park</td>\n",
       "      <td>1333 N Laramie Ave</td>\n",
       "      <td>Wednesday</td>\n",
       "      <td>Weekly</td>\n",
       "    </tr>\n",
       "    <tr>\n",
       "      <th>20</th>\n",
       "      <td>Columbus Park</td>\n",
       "      <td>Harrison &amp; Central</td>\n",
       "      <td>Tuesday</td>\n",
       "      <td>Weekly</td>\n",
       "    </tr>\n",
       "    <tr>\n",
       "      <th>21</th>\n",
       "      <td>Austin Town Center</td>\n",
       "      <td>Lake &amp; Central</td>\n",
       "      <td>Saturday</td>\n",
       "      <td>Weekly</td>\n",
       "    </tr>\n",
       "    <tr>\n",
       "      <th>22</th>\n",
       "      <td>Argyle Market</td>\n",
       "      <td>Argyle and Broadway</td>\n",
       "      <td>Thursday</td>\n",
       "      <td>Weekly</td>\n",
       "    </tr>\n",
       "    <tr>\n",
       "      <th>23</th>\n",
       "      <td>Devon Community Monthly Market</td>\n",
       "      <td>2720 W Devon</td>\n",
       "      <td>Varies</td>\n",
       "      <td>Monthly</td>\n",
       "    </tr>\n",
       "  </tbody>\n",
       "</table>\n",
       "</div>"
      ],
      "text/plain": [
       "                          LOCATION         INTERSECTION        DAY     TYPE\n",
       "19                La Follette Park   1333 N Laramie Ave  Wednesday   Weekly\n",
       "20                   Columbus Park   Harrison & Central    Tuesday   Weekly\n",
       "21              Austin Town Center       Lake & Central   Saturday   Weekly\n",
       "22                   Argyle Market  Argyle and Broadway   Thursday   Weekly\n",
       "23  Devon Community Monthly Market         2720 W Devon     Varies  Monthly"
      ]
     },
     "execution_count": 5,
     "metadata": {},
     "output_type": "execute_result"
    }
   ],
   "source": [
    "# if u want to see the last few (by default, 5) lines of the data:\n",
    "print('Print the last 5 lines')\n",
    "farm.tail()\n"
   ]
  },
  {
   "cell_type": "code",
   "execution_count": 6,
   "metadata": {},
   "outputs": [
    {
     "name": "stdout",
     "output_type": "stream",
     "text": [
      "Print the last 7 lines\n"
     ]
    },
    {
     "data": {
      "text/html": [
       "<div>\n",
       "<style scoped>\n",
       "    .dataframe tbody tr th:only-of-type {\n",
       "        vertical-align: middle;\n",
       "    }\n",
       "\n",
       "    .dataframe tbody tr th {\n",
       "        vertical-align: top;\n",
       "    }\n",
       "\n",
       "    .dataframe thead th {\n",
       "        text-align: right;\n",
       "    }\n",
       "</style>\n",
       "<table border=\"1\" class=\"dataframe\">\n",
       "  <thead>\n",
       "    <tr style=\"text-align: right;\">\n",
       "      <th></th>\n",
       "      <th>LOCATION</th>\n",
       "      <th>INTERSECTION</th>\n",
       "      <th>DAY</th>\n",
       "      <th>TYPE</th>\n",
       "    </tr>\n",
       "  </thead>\n",
       "  <tbody>\n",
       "    <tr>\n",
       "      <th>17</th>\n",
       "      <td>Southport Market</td>\n",
       "      <td>1420 West Grace (Blaine School)</td>\n",
       "      <td>Saturday</td>\n",
       "      <td>Weekly</td>\n",
       "    </tr>\n",
       "    <tr>\n",
       "      <th>18</th>\n",
       "      <td>Logan Square Night Market</td>\n",
       "      <td>3107 W Logan Blvd</td>\n",
       "      <td>Wednesday</td>\n",
       "      <td>Independent</td>\n",
       "    </tr>\n",
       "    <tr>\n",
       "      <th>19</th>\n",
       "      <td>La Follette Park</td>\n",
       "      <td>1333 N Laramie Ave</td>\n",
       "      <td>Wednesday</td>\n",
       "      <td>Weekly</td>\n",
       "    </tr>\n",
       "    <tr>\n",
       "      <th>20</th>\n",
       "      <td>Columbus Park</td>\n",
       "      <td>Harrison &amp; Central</td>\n",
       "      <td>Tuesday</td>\n",
       "      <td>Weekly</td>\n",
       "    </tr>\n",
       "    <tr>\n",
       "      <th>21</th>\n",
       "      <td>Austin Town Center</td>\n",
       "      <td>Lake &amp; Central</td>\n",
       "      <td>Saturday</td>\n",
       "      <td>Weekly</td>\n",
       "    </tr>\n",
       "    <tr>\n",
       "      <th>22</th>\n",
       "      <td>Argyle Market</td>\n",
       "      <td>Argyle and Broadway</td>\n",
       "      <td>Thursday</td>\n",
       "      <td>Weekly</td>\n",
       "    </tr>\n",
       "    <tr>\n",
       "      <th>23</th>\n",
       "      <td>Devon Community Monthly Market</td>\n",
       "      <td>2720 W Devon</td>\n",
       "      <td>Varies</td>\n",
       "      <td>Monthly</td>\n",
       "    </tr>\n",
       "  </tbody>\n",
       "</table>\n",
       "</div>"
      ],
      "text/plain": [
       "                          LOCATION                     INTERSECTION  \\\n",
       "17                Southport Market  1420 West Grace (Blaine School)   \n",
       "18       Logan Square Night Market                3107 W Logan Blvd   \n",
       "19                La Follette Park               1333 N Laramie Ave   \n",
       "20                   Columbus Park               Harrison & Central   \n",
       "21              Austin Town Center                   Lake & Central   \n",
       "22                   Argyle Market              Argyle and Broadway   \n",
       "23  Devon Community Monthly Market                     2720 W Devon   \n",
       "\n",
       "          DAY         TYPE  \n",
       "17   Saturday       Weekly  \n",
       "18  Wednesday  Independent  \n",
       "19  Wednesday       Weekly  \n",
       "20    Tuesday       Weekly  \n",
       "21   Saturday       Weekly  \n",
       "22   Thursday       Weekly  \n",
       "23     Varies      Monthly  "
      ]
     },
     "execution_count": 6,
     "metadata": {},
     "output_type": "execute_result"
    }
   ],
   "source": [
    "# if you want to see a certain number of the last lines:\n",
    "print('Print the last 7 lines')\n",
    "farm.tail(7)"
   ]
  },
  {
   "cell_type": "code",
   "execution_count": 7,
   "metadata": {},
   "outputs": [
    {
     "name": "stdout",
     "output_type": "stream",
     "text": [
      "Here are the columns\n"
     ]
    },
    {
     "data": {
      "text/plain": [
       "Index(['LOCATION', 'INTERSECTION', 'DAY', 'TYPE'], dtype='object')"
      ]
     },
     "execution_count": 7,
     "metadata": {},
     "output_type": "execute_result"
    }
   ],
   "source": [
    "# if you'd like to see certain lines, you have to use loc or iloc methods, a concept we'll work on later:\n",
    "print('Here are the columns')\n",
    "farm.columns\n",
    "# this command above will tell you what columns are there are:"
   ]
  },
  {
   "cell_type": "code",
   "execution_count": 8,
   "metadata": {},
   "outputs": [
    {
     "name": "stdout",
     "output_type": "stream",
     "text": [
      "The datatype info of the columns\n",
      "<class 'pandas.core.frame.DataFrame'>\n",
      "RangeIndex: 24 entries, 0 to 23\n",
      "Data columns (total 4 columns):\n",
      "LOCATION        24 non-null object\n",
      "INTERSECTION    24 non-null object\n",
      "DAY             24 non-null object\n",
      "TYPE            24 non-null object\n",
      "dtypes: object(4)\n",
      "memory usage: 848.0+ bytes\n"
     ]
    }
   ],
   "source": [
    "print('The datatype info of the columns')\n",
    "farm.info()\n",
    "# this one tells you what type of columns you have"
   ]
  },
  {
   "cell_type": "code",
   "execution_count": 9,
   "metadata": {},
   "outputs": [
    {
     "name": "stdout",
     "output_type": "stream",
     "text": [
      "Statistics of the data\n"
     ]
    },
    {
     "data": {
      "text/html": [
       "<div>\n",
       "<style scoped>\n",
       "    .dataframe tbody tr th:only-of-type {\n",
       "        vertical-align: middle;\n",
       "    }\n",
       "\n",
       "    .dataframe tbody tr th {\n",
       "        vertical-align: top;\n",
       "    }\n",
       "\n",
       "    .dataframe thead th {\n",
       "        text-align: right;\n",
       "    }\n",
       "</style>\n",
       "<table border=\"1\" class=\"dataframe\">\n",
       "  <thead>\n",
       "    <tr style=\"text-align: right;\">\n",
       "      <th></th>\n",
       "      <th>LOCATION</th>\n",
       "      <th>INTERSECTION</th>\n",
       "      <th>DAY</th>\n",
       "      <th>TYPE</th>\n",
       "    </tr>\n",
       "  </thead>\n",
       "  <tbody>\n",
       "    <tr>\n",
       "      <th>count</th>\n",
       "      <td>24</td>\n",
       "      <td>24</td>\n",
       "      <td>24</td>\n",
       "      <td>24</td>\n",
       "    </tr>\n",
       "    <tr>\n",
       "      <th>unique</th>\n",
       "      <td>24</td>\n",
       "      <td>24</td>\n",
       "      <td>6</td>\n",
       "      <td>4</td>\n",
       "    </tr>\n",
       "    <tr>\n",
       "      <th>top</th>\n",
       "      <td>Pullman</td>\n",
       "      <td>Harrison &amp; Central</td>\n",
       "      <td>Saturday</td>\n",
       "      <td>Weekly</td>\n",
       "    </tr>\n",
       "    <tr>\n",
       "      <th>freq</th>\n",
       "      <td>1</td>\n",
       "      <td>1</td>\n",
       "      <td>8</td>\n",
       "      <td>18</td>\n",
       "    </tr>\n",
       "  </tbody>\n",
       "</table>\n",
       "</div>"
      ],
      "text/plain": [
       "       LOCATION        INTERSECTION       DAY    TYPE\n",
       "count        24                  24        24      24\n",
       "unique       24                  24         6       4\n",
       "top     Pullman  Harrison & Central  Saturday  Weekly\n",
       "freq          1                   1         8      18"
      ]
     },
     "execution_count": 9,
     "metadata": {},
     "output_type": "execute_result"
    }
   ],
   "source": [
    "print('Statistics of the data')\n",
    "farm.describe()\n",
    "# this command gives descriptive statistics that summarize the central tendency, dispersion and shape of a dataset's distribution, excluding NaN values."
   ]
  },
  {
   "cell_type": "code",
   "execution_count": 10,
   "metadata": {},
   "outputs": [
    {
     "name": "stdout",
     "output_type": "stream",
     "text": [
      "One way of selecting it\n"
     ]
    },
    {
     "data": {
      "text/plain": [
       "0                                     Bridgeport\n",
       "1                                        Beverly\n",
       "2                                    Daley Plaza\n",
       "3                                  Federal Plaza\n",
       "4                                        Pullman\n",
       "5                                      Hyde Park\n",
       "6                                   Lincoln Park\n",
       "7                                 Lincoln Square\n",
       "8       Museum of Contemporary Art/Streeterville\n",
       "9                                Division Street\n",
       "10                    Garfield Park Conservatory\n",
       "11                                   Northcenter\n",
       "12                                 Printer's Row\n",
       "13                                   South Shore\n",
       "14                            Willis Tower Plaza\n",
       "15                        Wicker Park & Bucktown\n",
       "16    West Humboldt Park Farmers Market & Bazaar\n",
       "17                              Southport Market\n",
       "18                     Logan Square Night Market\n",
       "19                              La Follette Park\n",
       "20                                 Columbus Park\n",
       "21                            Austin Town Center\n",
       "22                                 Argyle Market\n",
       "23                Devon Community Monthly Market\n",
       "Name: LOCATION, dtype: object"
      ]
     },
     "execution_count": 10,
     "metadata": {},
     "output_type": "execute_result"
    }
   ],
   "source": [
    "\n",
    "# Sometimes you need to select certain things, or find them somehow. You can use location commands for that\n",
    "# they're called iloc and loc. They have quite a learning curve, so you'll have to mess with them a lot\n",
    "\n",
    "# how to select a column:\n",
    "print('One way of selecting it')\n",
    "farm['LOCATION']"
   ]
  },
  {
   "cell_type": "code",
   "execution_count": 23,
   "metadata": {},
   "outputs": [
    {
     "name": "stdout",
     "output_type": "stream",
     "text": [
      "Another way of Selecting it\n"
     ]
    },
    {
     "data": {
      "text/plain": [
       "0                                     Bridgeport\n",
       "1                                        Beverly\n",
       "2                                    Daley Plaza\n",
       "3                                  Federal Plaza\n",
       "4                                        Pullman\n",
       "5                                      Hyde Park\n",
       "6                                   Lincoln Park\n",
       "7                                 Lincoln Square\n",
       "8       Museum of Contemporary Art/Streeterville\n",
       "9                                Division Street\n",
       "10                    Garfield Park Conservatory\n",
       "11                                   Northcenter\n",
       "12                                 Printer's Row\n",
       "13                                   South Shore\n",
       "14                            Willis Tower Plaza\n",
       "15                        Wicker Park & Bucktown\n",
       "16    West Humboldt Park Farmers Market & Bazaar\n",
       "17                              Southport Market\n",
       "18                     Logan Square Night Market\n",
       "19                              La Follette Park\n",
       "20                                 Columbus Park\n",
       "21                            Austin Town Center\n",
       "22                                 Argyle Market\n",
       "23                Devon Community Monthly Market\n",
       "Name: LOCATION, dtype: object"
      ]
     },
     "execution_count": 23,
     "metadata": {},
     "output_type": "execute_result"
    }
   ],
   "source": [
    "\n",
    "# another way of selecting it:\n",
    "print('Another way of Selecting it')\n",
    "farm.LOCATION"
   ]
  },
  {
   "cell_type": "markdown",
   "metadata": {},
   "source": [
    "## Look at the following image to understand iloc\n",
    "\n",
    "<img src=\"iloc_img.PNG\">\n",
    "\n",
    "#### [Sourced from the pandas docs](https://pandas.pydata.org/pandas-docs/stable/reference/api/pandas.DataFrame.iloc.html)"
   ]
  },
  {
   "cell_type": "code",
   "execution_count": 11,
   "metadata": {},
   "outputs": [
    {
     "name": "stdout",
     "output_type": "stream",
     "text": [
      "One specific record using iloc\n"
     ]
    },
    {
     "data": {
      "text/html": [
       "<div>\n",
       "<style scoped>\n",
       "    .dataframe tbody tr th:only-of-type {\n",
       "        vertical-align: middle;\n",
       "    }\n",
       "\n",
       "    .dataframe tbody tr th {\n",
       "        vertical-align: top;\n",
       "    }\n",
       "\n",
       "    .dataframe thead th {\n",
       "        text-align: right;\n",
       "    }\n",
       "</style>\n",
       "<table border=\"1\" class=\"dataframe\">\n",
       "  <thead>\n",
       "    <tr style=\"text-align: right;\">\n",
       "      <th></th>\n",
       "      <th>LOCATION</th>\n",
       "      <th>INTERSECTION</th>\n",
       "      <th>DAY</th>\n",
       "      <th>TYPE</th>\n",
       "    </tr>\n",
       "  </thead>\n",
       "  <tbody>\n",
       "    <tr>\n",
       "      <th>1</th>\n",
       "      <td>Beverly</td>\n",
       "      <td>W 95th St &amp; S Longwood Dr</td>\n",
       "      <td>Sunday</td>\n",
       "      <td>Weekly</td>\n",
       "    </tr>\n",
       "  </tbody>\n",
       "</table>\n",
       "</div>"
      ],
      "text/plain": [
       "  LOCATION               INTERSECTION     DAY    TYPE\n",
       "1  Beverly  W 95th St & S Longwood Dr  Sunday  Weekly"
      ]
     },
     "execution_count": 11,
     "metadata": {},
     "output_type": "execute_result"
    }
   ],
   "source": [
    "\n",
    "# now suppose you wanted a specific record, with all the columns:\n",
    "print('One specific record using iloc')\n",
    "farm.iloc[1:2]\n",
    "# iloc chooses a specific row, and the num after the colon tells how many more rows after the previous number to print:\n",
    "# it gets rows (or columns) at particular positions in the index (so it only takes integers).\n",
    "\n"
   ]
  },
  {
   "cell_type": "code",
   "execution_count": 12,
   "metadata": {},
   "outputs": [
    {
     "name": "stdout",
     "output_type": "stream",
     "text": [
      "2nd record onwards\n"
     ]
    },
    {
     "data": {
      "text/html": [
       "<div>\n",
       "<style scoped>\n",
       "    .dataframe tbody tr th:only-of-type {\n",
       "        vertical-align: middle;\n",
       "    }\n",
       "\n",
       "    .dataframe tbody tr th {\n",
       "        vertical-align: top;\n",
       "    }\n",
       "\n",
       "    .dataframe thead th {\n",
       "        text-align: right;\n",
       "    }\n",
       "</style>\n",
       "<table border=\"1\" class=\"dataframe\">\n",
       "  <thead>\n",
       "    <tr style=\"text-align: right;\">\n",
       "      <th></th>\n",
       "      <th>LOCATION</th>\n",
       "      <th>INTERSECTION</th>\n",
       "      <th>DAY</th>\n",
       "      <th>TYPE</th>\n",
       "    </tr>\n",
       "  </thead>\n",
       "  <tbody>\n",
       "    <tr>\n",
       "      <th>2</th>\n",
       "      <td>Daley Plaza</td>\n",
       "      <td>W Washington St &amp; N Dearborn St</td>\n",
       "      <td>Thursday</td>\n",
       "      <td>Downtown</td>\n",
       "    </tr>\n",
       "    <tr>\n",
       "      <th>3</th>\n",
       "      <td>Federal Plaza</td>\n",
       "      <td>W Adams St &amp; S Dearborn St</td>\n",
       "      <td>Tuesday</td>\n",
       "      <td>Downtown</td>\n",
       "    </tr>\n",
       "    <tr>\n",
       "      <th>4</th>\n",
       "      <td>Pullman</td>\n",
       "      <td>E 111th Pl &amp; S Cottage Grove Ave</td>\n",
       "      <td>Wednesday</td>\n",
       "      <td>Weekly</td>\n",
       "    </tr>\n",
       "    <tr>\n",
       "      <th>5</th>\n",
       "      <td>Hyde Park</td>\n",
       "      <td>53rd &amp; Hyde Park</td>\n",
       "      <td>Thursday</td>\n",
       "      <td>Weekly</td>\n",
       "    </tr>\n",
       "    <tr>\n",
       "      <th>6</th>\n",
       "      <td>Lincoln Park</td>\n",
       "      <td>W Armitage Ave &amp; N Orchard St</td>\n",
       "      <td>Saturday</td>\n",
       "      <td>Weekly</td>\n",
       "    </tr>\n",
       "    <tr>\n",
       "      <th>7</th>\n",
       "      <td>Lincoln Square</td>\n",
       "      <td>W Leland Ave &amp; N Western Ave</td>\n",
       "      <td>Tuesday</td>\n",
       "      <td>Weekly</td>\n",
       "    </tr>\n",
       "    <tr>\n",
       "      <th>8</th>\n",
       "      <td>Museum of Contemporary Art/Streeterville</td>\n",
       "      <td>E Chicago Ave &amp; N Mies Van Der Rohe Way</td>\n",
       "      <td>Tuesday</td>\n",
       "      <td>Weekly</td>\n",
       "    </tr>\n",
       "    <tr>\n",
       "      <th>9</th>\n",
       "      <td>Division Street</td>\n",
       "      <td>W Division St &amp; N Dearborn St</td>\n",
       "      <td>Saturday</td>\n",
       "      <td>Weekly</td>\n",
       "    </tr>\n",
       "    <tr>\n",
       "      <th>10</th>\n",
       "      <td>Garfield Park Conservatory</td>\n",
       "      <td>300 N. Central Park</td>\n",
       "      <td>Sunday</td>\n",
       "      <td>Weekly</td>\n",
       "    </tr>\n",
       "    <tr>\n",
       "      <th>11</th>\n",
       "      <td>Northcenter</td>\n",
       "      <td>W Belle Plaine Ave &amp; N Damen Ave</td>\n",
       "      <td>Saturday</td>\n",
       "      <td>Weekly</td>\n",
       "    </tr>\n",
       "    <tr>\n",
       "      <th>12</th>\n",
       "      <td>Printer's Row</td>\n",
       "      <td>S Dearborn St &amp; W Polk St</td>\n",
       "      <td>Saturday</td>\n",
       "      <td>Weekly</td>\n",
       "    </tr>\n",
       "    <tr>\n",
       "      <th>13</th>\n",
       "      <td>South Shore</td>\n",
       "      <td>77th and Lake Michigan</td>\n",
       "      <td>Sunday</td>\n",
       "      <td>Weekly</td>\n",
       "    </tr>\n",
       "    <tr>\n",
       "      <th>14</th>\n",
       "      <td>Willis Tower Plaza</td>\n",
       "      <td>W Jackson Blvd &amp; S Wacker Dr</td>\n",
       "      <td>Thursday</td>\n",
       "      <td>Downtown</td>\n",
       "    </tr>\n",
       "    <tr>\n",
       "      <th>15</th>\n",
       "      <td>Wicker Park &amp; Bucktown</td>\n",
       "      <td>N Wicker Park &amp; Damen Ave</td>\n",
       "      <td>Sunday</td>\n",
       "      <td>Weekly</td>\n",
       "    </tr>\n",
       "    <tr>\n",
       "      <th>16</th>\n",
       "      <td>West Humboldt Park Farmers Market &amp; Bazaar</td>\n",
       "      <td>3601 W Chicago Ave</td>\n",
       "      <td>Saturday</td>\n",
       "      <td>Independent</td>\n",
       "    </tr>\n",
       "    <tr>\n",
       "      <th>17</th>\n",
       "      <td>Southport Market</td>\n",
       "      <td>1420 West Grace (Blaine School)</td>\n",
       "      <td>Saturday</td>\n",
       "      <td>Weekly</td>\n",
       "    </tr>\n",
       "    <tr>\n",
       "      <th>18</th>\n",
       "      <td>Logan Square Night Market</td>\n",
       "      <td>3107 W Logan Blvd</td>\n",
       "      <td>Wednesday</td>\n",
       "      <td>Independent</td>\n",
       "    </tr>\n",
       "    <tr>\n",
       "      <th>19</th>\n",
       "      <td>La Follette Park</td>\n",
       "      <td>1333 N Laramie Ave</td>\n",
       "      <td>Wednesday</td>\n",
       "      <td>Weekly</td>\n",
       "    </tr>\n",
       "    <tr>\n",
       "      <th>20</th>\n",
       "      <td>Columbus Park</td>\n",
       "      <td>Harrison &amp; Central</td>\n",
       "      <td>Tuesday</td>\n",
       "      <td>Weekly</td>\n",
       "    </tr>\n",
       "    <tr>\n",
       "      <th>21</th>\n",
       "      <td>Austin Town Center</td>\n",
       "      <td>Lake &amp; Central</td>\n",
       "      <td>Saturday</td>\n",
       "      <td>Weekly</td>\n",
       "    </tr>\n",
       "    <tr>\n",
       "      <th>22</th>\n",
       "      <td>Argyle Market</td>\n",
       "      <td>Argyle and Broadway</td>\n",
       "      <td>Thursday</td>\n",
       "      <td>Weekly</td>\n",
       "    </tr>\n",
       "    <tr>\n",
       "      <th>23</th>\n",
       "      <td>Devon Community Monthly Market</td>\n",
       "      <td>2720 W Devon</td>\n",
       "      <td>Varies</td>\n",
       "      <td>Monthly</td>\n",
       "    </tr>\n",
       "  </tbody>\n",
       "</table>\n",
       "</div>"
      ],
      "text/plain": [
       "                                      LOCATION  \\\n",
       "2                                  Daley Plaza   \n",
       "3                                Federal Plaza   \n",
       "4                                      Pullman   \n",
       "5                                    Hyde Park   \n",
       "6                                 Lincoln Park   \n",
       "7                               Lincoln Square   \n",
       "8     Museum of Contemporary Art/Streeterville   \n",
       "9                              Division Street   \n",
       "10                  Garfield Park Conservatory   \n",
       "11                                 Northcenter   \n",
       "12                               Printer's Row   \n",
       "13                                 South Shore   \n",
       "14                          Willis Tower Plaza   \n",
       "15                      Wicker Park & Bucktown   \n",
       "16  West Humboldt Park Farmers Market & Bazaar   \n",
       "17                            Southport Market   \n",
       "18                   Logan Square Night Market   \n",
       "19                            La Follette Park   \n",
       "20                               Columbus Park   \n",
       "21                          Austin Town Center   \n",
       "22                               Argyle Market   \n",
       "23              Devon Community Monthly Market   \n",
       "\n",
       "                               INTERSECTION        DAY         TYPE  \n",
       "2           W Washington St & N Dearborn St   Thursday     Downtown  \n",
       "3                W Adams St & S Dearborn St    Tuesday     Downtown  \n",
       "4          E 111th Pl & S Cottage Grove Ave  Wednesday       Weekly  \n",
       "5                          53rd & Hyde Park   Thursday       Weekly  \n",
       "6             W Armitage Ave & N Orchard St   Saturday       Weekly  \n",
       "7              W Leland Ave & N Western Ave    Tuesday       Weekly  \n",
       "8   E Chicago Ave & N Mies Van Der Rohe Way    Tuesday       Weekly  \n",
       "9             W Division St & N Dearborn St   Saturday       Weekly  \n",
       "10                      300 N. Central Park     Sunday       Weekly  \n",
       "11         W Belle Plaine Ave & N Damen Ave   Saturday       Weekly  \n",
       "12                S Dearborn St & W Polk St   Saturday       Weekly  \n",
       "13                   77th and Lake Michigan     Sunday       Weekly  \n",
       "14             W Jackson Blvd & S Wacker Dr   Thursday     Downtown  \n",
       "15                N Wicker Park & Damen Ave     Sunday       Weekly  \n",
       "16                       3601 W Chicago Ave   Saturday  Independent  \n",
       "17          1420 West Grace (Blaine School)   Saturday       Weekly  \n",
       "18                        3107 W Logan Blvd  Wednesday  Independent  \n",
       "19                       1333 N Laramie Ave  Wednesday       Weekly  \n",
       "20                       Harrison & Central    Tuesday       Weekly  \n",
       "21                           Lake & Central   Saturday       Weekly  \n",
       "22                      Argyle and Broadway   Thursday       Weekly  \n",
       "23                             2720 W Devon     Varies      Monthly  "
      ]
     },
     "execution_count": 12,
     "metadata": {},
     "output_type": "execute_result"
    }
   ],
   "source": [
    "# let us start from beginning: print the second row onwards:\n",
    "print('2nd record onwards')\n",
    "farm.iloc[2:,]"
   ]
  },
  {
   "cell_type": "code",
   "execution_count": 13,
   "metadata": {},
   "outputs": [
    {
     "name": "stdout",
     "output_type": "stream",
     "text": [
      "Row 1 to Row 15\n"
     ]
    },
    {
     "data": {
      "text/html": [
       "<div>\n",
       "<style scoped>\n",
       "    .dataframe tbody tr th:only-of-type {\n",
       "        vertical-align: middle;\n",
       "    }\n",
       "\n",
       "    .dataframe tbody tr th {\n",
       "        vertical-align: top;\n",
       "    }\n",
       "\n",
       "    .dataframe thead th {\n",
       "        text-align: right;\n",
       "    }\n",
       "</style>\n",
       "<table border=\"1\" class=\"dataframe\">\n",
       "  <thead>\n",
       "    <tr style=\"text-align: right;\">\n",
       "      <th></th>\n",
       "      <th>LOCATION</th>\n",
       "      <th>INTERSECTION</th>\n",
       "      <th>DAY</th>\n",
       "      <th>TYPE</th>\n",
       "    </tr>\n",
       "  </thead>\n",
       "  <tbody>\n",
       "    <tr>\n",
       "      <th>2</th>\n",
       "      <td>Daley Plaza</td>\n",
       "      <td>W Washington St &amp; N Dearborn St</td>\n",
       "      <td>Thursday</td>\n",
       "      <td>Downtown</td>\n",
       "    </tr>\n",
       "    <tr>\n",
       "      <th>3</th>\n",
       "      <td>Federal Plaza</td>\n",
       "      <td>W Adams St &amp; S Dearborn St</td>\n",
       "      <td>Tuesday</td>\n",
       "      <td>Downtown</td>\n",
       "    </tr>\n",
       "    <tr>\n",
       "      <th>4</th>\n",
       "      <td>Pullman</td>\n",
       "      <td>E 111th Pl &amp; S Cottage Grove Ave</td>\n",
       "      <td>Wednesday</td>\n",
       "      <td>Weekly</td>\n",
       "    </tr>\n",
       "    <tr>\n",
       "      <th>5</th>\n",
       "      <td>Hyde Park</td>\n",
       "      <td>53rd &amp; Hyde Park</td>\n",
       "      <td>Thursday</td>\n",
       "      <td>Weekly</td>\n",
       "    </tr>\n",
       "    <tr>\n",
       "      <th>6</th>\n",
       "      <td>Lincoln Park</td>\n",
       "      <td>W Armitage Ave &amp; N Orchard St</td>\n",
       "      <td>Saturday</td>\n",
       "      <td>Weekly</td>\n",
       "    </tr>\n",
       "    <tr>\n",
       "      <th>7</th>\n",
       "      <td>Lincoln Square</td>\n",
       "      <td>W Leland Ave &amp; N Western Ave</td>\n",
       "      <td>Tuesday</td>\n",
       "      <td>Weekly</td>\n",
       "    </tr>\n",
       "    <tr>\n",
       "      <th>8</th>\n",
       "      <td>Museum of Contemporary Art/Streeterville</td>\n",
       "      <td>E Chicago Ave &amp; N Mies Van Der Rohe Way</td>\n",
       "      <td>Tuesday</td>\n",
       "      <td>Weekly</td>\n",
       "    </tr>\n",
       "    <tr>\n",
       "      <th>9</th>\n",
       "      <td>Division Street</td>\n",
       "      <td>W Division St &amp; N Dearborn St</td>\n",
       "      <td>Saturday</td>\n",
       "      <td>Weekly</td>\n",
       "    </tr>\n",
       "    <tr>\n",
       "      <th>10</th>\n",
       "      <td>Garfield Park Conservatory</td>\n",
       "      <td>300 N. Central Park</td>\n",
       "      <td>Sunday</td>\n",
       "      <td>Weekly</td>\n",
       "    </tr>\n",
       "    <tr>\n",
       "      <th>11</th>\n",
       "      <td>Northcenter</td>\n",
       "      <td>W Belle Plaine Ave &amp; N Damen Ave</td>\n",
       "      <td>Saturday</td>\n",
       "      <td>Weekly</td>\n",
       "    </tr>\n",
       "    <tr>\n",
       "      <th>12</th>\n",
       "      <td>Printer's Row</td>\n",
       "      <td>S Dearborn St &amp; W Polk St</td>\n",
       "      <td>Saturday</td>\n",
       "      <td>Weekly</td>\n",
       "    </tr>\n",
       "    <tr>\n",
       "      <th>13</th>\n",
       "      <td>South Shore</td>\n",
       "      <td>77th and Lake Michigan</td>\n",
       "      <td>Sunday</td>\n",
       "      <td>Weekly</td>\n",
       "    </tr>\n",
       "    <tr>\n",
       "      <th>14</th>\n",
       "      <td>Willis Tower Plaza</td>\n",
       "      <td>W Jackson Blvd &amp; S Wacker Dr</td>\n",
       "      <td>Thursday</td>\n",
       "      <td>Downtown</td>\n",
       "    </tr>\n",
       "    <tr>\n",
       "      <th>15</th>\n",
       "      <td>Wicker Park &amp; Bucktown</td>\n",
       "      <td>N Wicker Park &amp; Damen Ave</td>\n",
       "      <td>Sunday</td>\n",
       "      <td>Weekly</td>\n",
       "    </tr>\n",
       "  </tbody>\n",
       "</table>\n",
       "</div>"
      ],
      "text/plain": [
       "                                    LOCATION  \\\n",
       "2                                Daley Plaza   \n",
       "3                              Federal Plaza   \n",
       "4                                    Pullman   \n",
       "5                                  Hyde Park   \n",
       "6                               Lincoln Park   \n",
       "7                             Lincoln Square   \n",
       "8   Museum of Contemporary Art/Streeterville   \n",
       "9                            Division Street   \n",
       "10                Garfield Park Conservatory   \n",
       "11                               Northcenter   \n",
       "12                             Printer's Row   \n",
       "13                               South Shore   \n",
       "14                        Willis Tower Plaza   \n",
       "15                    Wicker Park & Bucktown   \n",
       "\n",
       "                               INTERSECTION        DAY      TYPE  \n",
       "2           W Washington St & N Dearborn St   Thursday  Downtown  \n",
       "3                W Adams St & S Dearborn St    Tuesday  Downtown  \n",
       "4          E 111th Pl & S Cottage Grove Ave  Wednesday    Weekly  \n",
       "5                          53rd & Hyde Park   Thursday    Weekly  \n",
       "6             W Armitage Ave & N Orchard St   Saturday    Weekly  \n",
       "7              W Leland Ave & N Western Ave    Tuesday    Weekly  \n",
       "8   E Chicago Ave & N Mies Van Der Rohe Way    Tuesday    Weekly  \n",
       "9             W Division St & N Dearborn St   Saturday    Weekly  \n",
       "10                      300 N. Central Park     Sunday    Weekly  \n",
       "11         W Belle Plaine Ave & N Damen Ave   Saturday    Weekly  \n",
       "12                S Dearborn St & W Polk St   Saturday    Weekly  \n",
       "13                   77th and Lake Michigan     Sunday    Weekly  \n",
       "14             W Jackson Blvd & S Wacker Dr   Thursday  Downtown  \n",
       "15                N Wicker Park & Damen Ave     Sunday    Weekly  "
      ]
     },
     "execution_count": 13,
     "metadata": {},
     "output_type": "execute_result"
    }
   ],
   "source": [
    "# print the second row to 15th row\n",
    "print('Row 1 to Row 15')\n",
    "farm.iloc[2:16]"
   ]
  },
  {
   "cell_type": "code",
   "execution_count": 14,
   "metadata": {},
   "outputs": [
    {
     "name": "stdout",
     "output_type": "stream",
     "text": [
      "        LOCATION                      INTERSECTION        DAY      TYPE\n",
      "0     Bridgeport                    35th & Wallace   Saturday    Weekly\n",
      "1        Beverly         W 95th St & S Longwood Dr     Sunday    Weekly\n",
      "2    Daley Plaza   W Washington St & N Dearborn St   Thursday  Downtown\n",
      "3  Federal Plaza        W Adams St & S Dearborn St    Tuesday  Downtown\n",
      "4        Pullman  E 111th Pl & S Cottage Grove Ave  Wednesday    Weekly\n",
      "5      Hyde Park                  53rd & Hyde Park   Thursday    Weekly\n"
     ]
    }
   ],
   "source": [
    "# print up till the 5th row\n",
    "print(farm.iloc[:6])"
   ]
  },
  {
   "cell_type": "code",
   "execution_count": 15,
   "metadata": {},
   "outputs": [
    {
     "name": "stdout",
     "output_type": "stream",
     "text": [
      "Specific Column's record\n"
     ]
    },
    {
     "data": {
      "text/plain": [
       "2    Downtown\n",
       "Name: TYPE, dtype: object"
      ]
     },
     "execution_count": 15,
     "metadata": {},
     "output_type": "execute_result"
    }
   ],
   "source": [
    "\n",
    "# now suppose you want to load a specific row from a specific column:\n",
    "# choose column as farm['somethin'] or as farm.somethin\n",
    "print(\"Specific Column's record\")\n",
    "farm.TYPE.iloc[2:3]\n",
    "# this above command (the iloc one specifically) prints only one commmand"
   ]
  },
  {
   "cell_type": "code",
   "execution_count": 41,
   "metadata": {},
   "outputs": [
    {
     "data": {
      "text/html": [
       "<div>\n",
       "<style scoped>\n",
       "    .dataframe tbody tr th:only-of-type {\n",
       "        vertical-align: middle;\n",
       "    }\n",
       "\n",
       "    .dataframe tbody tr th {\n",
       "        vertical-align: top;\n",
       "    }\n",
       "\n",
       "    .dataframe thead th {\n",
       "        text-align: right;\n",
       "    }\n",
       "</style>\n",
       "<table border=\"1\" class=\"dataframe\">\n",
       "  <thead>\n",
       "    <tr style=\"text-align: right;\">\n",
       "      <th></th>\n",
       "      <th>INTERSECTION</th>\n",
       "      <th>DAY</th>\n",
       "    </tr>\n",
       "  </thead>\n",
       "  <tbody>\n",
       "    <tr>\n",
       "      <th>0</th>\n",
       "      <td>35th &amp; Wallace</td>\n",
       "      <td>Saturday</td>\n",
       "    </tr>\n",
       "    <tr>\n",
       "      <th>1</th>\n",
       "      <td>W 95th St &amp; S Longwood Dr</td>\n",
       "      <td>Sunday</td>\n",
       "    </tr>\n",
       "    <tr>\n",
       "      <th>2</th>\n",
       "      <td>W Washington St &amp; N Dearborn St</td>\n",
       "      <td>Thursday</td>\n",
       "    </tr>\n",
       "    <tr>\n",
       "      <th>3</th>\n",
       "      <td>W Adams St &amp; S Dearborn St</td>\n",
       "      <td>Tuesday</td>\n",
       "    </tr>\n",
       "    <tr>\n",
       "      <th>4</th>\n",
       "      <td>E 111th Pl &amp; S Cottage Grove Ave</td>\n",
       "      <td>Wednesday</td>\n",
       "    </tr>\n",
       "  </tbody>\n",
       "</table>\n",
       "</div>"
      ],
      "text/plain": [
       "                       INTERSECTION        DAY\n",
       "0                    35th & Wallace   Saturday\n",
       "1         W 95th St & S Longwood Dr     Sunday\n",
       "2   W Washington St & N Dearborn St   Thursday\n",
       "3        W Adams St & S Dearborn St    Tuesday\n",
       "4  E 111th Pl & S Cottage Grove Ave  Wednesday"
      ]
     },
     "execution_count": 41,
     "metadata": {},
     "output_type": "execute_result"
    }
   ],
   "source": [
    "# more iloc stuffs\n",
    "\n",
    "\n",
    "farm.iloc[0:5] # first five rows of dataframe\n",
    "farm.iloc[:, 0:2] # first two columns of data frame with all rows\n",
    "farm.iloc[[0,3,6], [0,1,3]] # 1st, 4th, 7th + 1st 2nd 4th columns.\n",
    "farm.iloc[0:5, 1:3] # first 5 rows and 2nd through 3rd columns of data frame"
   ]
  },
  {
   "cell_type": "code",
   "execution_count": 16,
   "metadata": {},
   "outputs": [
    {
     "name": "stdout",
     "output_type": "stream",
     "text": [
      "One Record, num #4\n"
     ]
    },
    {
     "data": {
      "text/plain": [
       "LOCATION                                 Pullman\n",
       "INTERSECTION    E 111th Pl & S Cottage Grove Ave\n",
       "DAY                                    Wednesday\n",
       "TYPE                                      Weekly\n",
       "Name: 4, dtype: object"
      ]
     },
     "execution_count": 16,
     "metadata": {},
     "output_type": "execute_result"
    }
   ],
   "source": [
    "# now we do loc:\n",
    "\n",
    "# this one should just print one record, #4\n",
    "print('One Record, num #4')\n",
    "farm.loc[4]"
   ]
  },
  {
   "cell_type": "code",
   "execution_count": 17,
   "metadata": {},
   "outputs": [
    {
     "name": "stdout",
     "output_type": "stream",
     "text": [
      "Location of the 4th record\n"
     ]
    },
    {
     "data": {
      "text/plain": [
       "'Pullman'"
      ]
     },
     "execution_count": 17,
     "metadata": {},
     "output_type": "execute_result"
    }
   ],
   "source": [
    "print('Location of the 4th record')\n",
    "farm.LOCATION.loc[4]\n",
    "# you can get just the location of the 4th record w this"
   ]
  },
  {
   "cell_type": "code",
   "execution_count": 24,
   "metadata": {},
   "outputs": [
    {
     "data": {
      "text/plain": [
       "0       Bridgeport\n",
       "1          Beverly\n",
       "2      Daley Plaza\n",
       "3    Federal Plaza\n",
       "4          Pullman\n",
       "Name: LOCATION, dtype: object"
      ]
     },
     "execution_count": 24,
     "metadata": {},
     "output_type": "execute_result"
    }
   ],
   "source": [
    "# creating a new dataframe out of one u already have:\n",
    "# my habit is that i usually need a new df from a specific column\n",
    "# that just happens to be the way my data worked:\n",
    "\n",
    "# the following df_loc is a new dataframe you're creating from the location column\n",
    "# of the farm csv\n",
    "df_LOC = farm.LOCATION\n",
    "\n",
    "df_LOC.head()"
   ]
  },
  {
   "cell_type": "code",
   "execution_count": 34,
   "metadata": {},
   "outputs": [
    {
     "data": {
      "text/html": [
       "<div>\n",
       "<style scoped>\n",
       "    .dataframe tbody tr th:only-of-type {\n",
       "        vertical-align: middle;\n",
       "    }\n",
       "\n",
       "    .dataframe tbody tr th {\n",
       "        vertical-align: top;\n",
       "    }\n",
       "\n",
       "    .dataframe thead th {\n",
       "        text-align: right;\n",
       "    }\n",
       "</style>\n",
       "<table border=\"1\" class=\"dataframe\">\n",
       "  <thead>\n",
       "    <tr style=\"text-align: right;\">\n",
       "      <th></th>\n",
       "      <th>LOCATION</th>\n",
       "      <th>INTERSECTION</th>\n",
       "      <th>DAY</th>\n",
       "      <th>TYPE</th>\n",
       "    </tr>\n",
       "  </thead>\n",
       "  <tbody>\n",
       "    <tr>\n",
       "      <th>2</th>\n",
       "      <td>Daley Plaza</td>\n",
       "      <td>W Washington St &amp; N Dearborn St</td>\n",
       "      <td>Thursday</td>\n",
       "      <td>Downtown</td>\n",
       "    </tr>\n",
       "    <tr>\n",
       "      <th>3</th>\n",
       "      <td>Federal Plaza</td>\n",
       "      <td>W Adams St &amp; S Dearborn St</td>\n",
       "      <td>Tuesday</td>\n",
       "      <td>Downtown</td>\n",
       "    </tr>\n",
       "    <tr>\n",
       "      <th>4</th>\n",
       "      <td>Pullman</td>\n",
       "      <td>E 111th Pl &amp; S Cottage Grove Ave</td>\n",
       "      <td>Wednesday</td>\n",
       "      <td>Weekly</td>\n",
       "    </tr>\n",
       "    <tr>\n",
       "      <th>5</th>\n",
       "      <td>Hyde Park</td>\n",
       "      <td>53rd &amp; Hyde Park</td>\n",
       "      <td>Thursday</td>\n",
       "      <td>Weekly</td>\n",
       "    </tr>\n",
       "    <tr>\n",
       "      <th>6</th>\n",
       "      <td>Lincoln Park</td>\n",
       "      <td>W Armitage Ave &amp; N Orchard St</td>\n",
       "      <td>Saturday</td>\n",
       "      <td>Weekly</td>\n",
       "    </tr>\n",
       "  </tbody>\n",
       "</table>\n",
       "</div>"
      ],
      "text/plain": [
       "        LOCATION                      INTERSECTION        DAY      TYPE\n",
       "2    Daley Plaza   W Washington St & N Dearborn St   Thursday  Downtown\n",
       "3  Federal Plaza        W Adams St & S Dearborn St    Tuesday  Downtown\n",
       "4        Pullman  E 111th Pl & S Cottage Grove Ave  Wednesday    Weekly\n",
       "5      Hyde Park                  53rd & Hyde Park   Thursday    Weekly\n",
       "6   Lincoln Park     W Armitage Ave & N Orchard St   Saturday    Weekly"
      ]
     },
     "execution_count": 34,
     "metadata": {},
     "output_type": "execute_result"
    }
   ],
   "source": [
    "# you could also take a section of the original df and make a new one out of it\n",
    "df_1 = farm.loc[2:15]\n",
    "df_1.head()"
   ]
  },
  {
   "cell_type": "code",
   "execution_count": 43,
   "metadata": {},
   "outputs": [
    {
     "data": {
      "text/html": [
       "<div>\n",
       "<style scoped>\n",
       "    .dataframe tbody tr th:only-of-type {\n",
       "        vertical-align: middle;\n",
       "    }\n",
       "\n",
       "    .dataframe tbody tr th {\n",
       "        vertical-align: top;\n",
       "    }\n",
       "\n",
       "    .dataframe thead th {\n",
       "        text-align: right;\n",
       "    }\n",
       "</style>\n",
       "<table border=\"1\" class=\"dataframe\">\n",
       "  <thead>\n",
       "    <tr style=\"text-align: right;\">\n",
       "      <th></th>\n",
       "      <th>LOCATION</th>\n",
       "      <th>INTERSECTION</th>\n",
       "    </tr>\n",
       "  </thead>\n",
       "  <tbody>\n",
       "    <tr>\n",
       "      <th>3</th>\n",
       "      <td>Federal Plaza</td>\n",
       "      <td>W Adams St &amp; S Dearborn St</td>\n",
       "    </tr>\n",
       "    <tr>\n",
       "      <th>4</th>\n",
       "      <td>Pullman</td>\n",
       "      <td>E 111th Pl &amp; S Cottage Grove Ave</td>\n",
       "    </tr>\n",
       "    <tr>\n",
       "      <th>5</th>\n",
       "      <td>Hyde Park</td>\n",
       "      <td>53rd &amp; Hyde Park</td>\n",
       "    </tr>\n",
       "    <tr>\n",
       "      <th>6</th>\n",
       "      <td>Lincoln Park</td>\n",
       "      <td>W Armitage Ave &amp; N Orchard St</td>\n",
       "    </tr>\n",
       "    <tr>\n",
       "      <th>7</th>\n",
       "      <td>Lincoln Square</td>\n",
       "      <td>W Leland Ave &amp; N Western Ave</td>\n",
       "    </tr>\n",
       "  </tbody>\n",
       "</table>\n",
       "</div>"
      ],
      "text/plain": [
       "         LOCATION                      INTERSECTION\n",
       "3   Federal Plaza        W Adams St & S Dearborn St\n",
       "4         Pullman  E 111th Pl & S Cottage Grove Ave\n",
       "5       Hyde Park                  53rd & Hyde Park\n",
       "6    Lincoln Park     W Armitage Ave & N Orchard St\n",
       "7  Lincoln Square      W Leland Ave & N Western Ave"
      ]
     },
     "execution_count": 43,
     "metadata": {},
     "output_type": "execute_result"
    }
   ],
   "source": [
    "df_2 = farm.iloc[3:10, 0:2]\n",
    "df_2.head()"
   ]
  },
  {
   "cell_type": "markdown",
   "metadata": {},
   "source": [
    "# Assignment:\n",
    "\n",
    "1. Find and download a csv for analysis. (It can b p much w.e u want, don't get a dataset that's too big though, you don't want anything to crash. Keep it at a limit of 20 rows, and max 10 columns.\n",
    "\n",
    "2. Get the head, tail and 5 random rows in between of the dataframe\n",
    "\n",
    "3. Get a set of 3 rows from a specific column in your dataset"
   ]
  }
 ],
 "metadata": {
  "kernelspec": {
   "display_name": "Python 3",
   "language": "python",
   "name": "python3"
  },
  "language_info": {
   "codemirror_mode": {
    "name": "ipython",
    "version": 3
   },
   "file_extension": ".py",
   "mimetype": "text/x-python",
   "name": "python",
   "nbconvert_exporter": "python",
   "pygments_lexer": "ipython3",
   "version": "3.6.8"
  }
 },
 "nbformat": 4,
 "nbformat_minor": 4
}

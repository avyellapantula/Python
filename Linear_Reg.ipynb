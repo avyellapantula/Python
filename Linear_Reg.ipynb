{
 "cells": [
  {
  {
   "cell_type": "code",
   "execution_count": 1,
   "metadata": {},
   "outputs": [],
   "source": [
    "import pandas as pd\n",
    "import numpy as np\n",
    "import seaborn as sns\n",
    "import matplotlib.pyplot as plt\n",
    "np.random.seed(42)\n",
    "plt.style.use('fivethirtyeight')\n",
    "sns.set()\n",
    "sns.set_context(\"talk\")\n",
    "%matplotlib inline"
   ]
  },
  {
   "cell_type": "markdown",
   "metadata": {},
   "source": [
    "# Univariate Linear Regression\n",
    "In the first task of the lab, we will model linear regression based on a data set that contains grades from CS 205 course in fall 2018. The dataset (with no ID's) contain midterm and final exam grades of Rutgers students (including other assignment grades). \n",
    "\n",
    "# Task 1 - Initialization\n",
    "Read the file into a dataframe and keep only the midtermRaw and FinaRaw columns. We will be doing univariate regression on x=midterm, y=finalExam\n",
    "The goal is to find a model that will allow us to predict the final exam score given the midterm score."
   ]
  },
  {
   "cell_type": "markdown",
   "metadata": {},
   "source": [
    "### Activity 1.1  Read Data"
   ]
  },
  {
   "cell_type": "code",
   "execution_count": 1,
   "metadata": {},
   "outputs": [
    {
     "data": {
      "text/html": [
       "<div>\n",
       "<style scoped>\n",
       "    .dataframe tbody tr th:only-of-type {\n",
       "        vertical-align: middle;\n",
       "    }\n",
       "\n",
       "    .dataframe tbody tr th {\n",
       "        vertical-align: top;\n",
       "    }\n",
       "\n",
       "    .dataframe thead th {\n",
       "        text-align: right;\n",
       "    }\n",
       "</style>\n",
       "<table border=\"1\" class=\"dataframe\">\n",
       "  <thead>\n",
       "    <tr style=\"text-align: right;\">\n",
       "      <th></th>\n",
       "      <th>midtermRaw</th>\n",
       "      <th>finalRaw</th>\n",
       "    </tr>\n",
       "  </thead>\n",
       "  <tbody>\n",
       "    <tr>\n",
       "      <th>3</th>\n",
       "      <td>45.5</td>\n",
       "      <td>62.0</td>\n",
       "    </tr>\n",
       "    <tr>\n",
       "      <th>4</th>\n",
       "      <td>58.0</td>\n",
       "      <td>60.5</td>\n",
       "    </tr>\n",
       "    <tr>\n",
       "      <th>5</th>\n",
       "      <td>68.0</td>\n",
       "      <td>32.0</td>\n",
       "    </tr>\n",
       "    <tr>\n",
       "      <th>6</th>\n",
       "      <td>64.5</td>\n",
       "      <td>50.5</td>\n",
       "    </tr>\n",
       "    <tr>\n",
       "      <th>7</th>\n",
       "      <td>74.0</td>\n",
       "      <td>51.0</td>\n",
       "    </tr>\n",
       "  </tbody>\n",
       "</table>\n",
       "</div>"
      ],
      "text/plain": [
       "   midtermRaw  finalRaw\n",
       "3        45.5      62.0\n",
       "4        58.0      60.5\n",
       "5        68.0      32.0\n",
       "6        64.5      50.5\n",
       "7        74.0      51.0"
      ]
     },
     "execution_count": 1,
     "metadata": {},
     "output_type": "execute_result"
    }
   ],
   "source": [
    "import pandas as pd\n",
    "df = pd.read_csv(\"data/CS205_grades_12_19_18_Final.csv\")\n",
    "df_cleaned = df[['midtermRaw','finalRaw']]\n",
    "# drop all undefined rows \n",
    "df_cleaned = df_cleaned.dropna() \n",
    "df_cleaned.head()"
   ]
  },
  {
   "cell_type": "markdown",
   "metadata": {},
   "source": [
    "### Activity 1.2 Normalize Data\n",
    "In this task, you need to normalize data using MinMaxScaler from sklearn.preprocessing. Normalize midterm and final scores to be between 0 and 1. X_scaled_values and Y_scaled_values are the normalized midterm and final exam scores."
   ]
  },
  {
   "cell_type": "code",
   "execution_count": 28,
   "metadata": {},
   "outputs": [],
   "source": [
    "from sklearn.preprocessing import MinMaxScaler\n",
    "# BEGIN SOLUTION\n",
    "#df_cleaned\n",
    "scaler = MinMaxScaler()\n",
    "scaler.fit(df_cleaned)\n",
    "# MinMaxScaler(copy=True, feature_range=(0, 1))\n",
    "# print(scaler.transform(df_cleaned))\n",
    "scaleo = scaler.transform(df_cleaned)\n",
    "\n",
    "X_scaled_values=scaleo[0:123,0]\n",
    "Y_scaled_values=scaleo[0:123,0]\n",
    "\n",
    "# END SOLUTION\n",
    "# END SOLUTION\n",
    "\n",
    "# call the scaled vectors x and y\n",
    "x = X_scaled_values\n",
    "y = Y_scaled_values"
   ]
  },
  {
   "cell_type": "markdown",
   "metadata": {},
   "source": [
    "### Activity 1.3 Plot the data to see if a linear regression line is a good fit\n",
    "It is helpful to understand if the data lends to a linear regression model. In this activity, we will plot the points to see if a line fit to data is reasonable."
   ]
  },
  {
   "cell_type": "code",
   "execution_count": 30,
   "metadata": {},
   "outputs": [
    {
     "data": {
      "image/png": "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\n",
      "text/plain": [
       "<Figure size 432x288 with 1 Axes>"
      ]
     },
     "metadata": {
      "needs_background": "light"
     },
     "output_type": "display_data"
    }
   ],
   "source": [
    "import numpy as np\n",
    "import matplotlib.pyplot as plt\n",
    "\n",
    "### BEGIN SOLUTION\n",
    "\n",
    "plt.scatter(x,y)\n",
    "plt.show()\n",
    "\n",
    "### END SOLUTION"
   ]
  },
  {
   "cell_type": "markdown",
   "metadata": {},
   "source": [
    "## Question 1.4\n",
    "\n",
    "question: Based on what you see in the plot, do you think it is fine to use linear regression? Why?\n",
    "\n",
    "### BEGIN ANSWER\n",
    "The plot points are nearly in a line already. The points clearly look like a upward sloping straight line\n",
    "\n",
    "\n",
    "### END ANSWER"
   ]
  },
  {
   "cell_type": "markdown",
   "metadata": {},
   "source": [
    "# Task 2 Manual Exploration of Linear Regression Line\n",
    "In this task we will manually explore the linear regression line. This will give us a good intution about the process.\n",
    "The goal now is to fit a line \n",
    "$$\n",
    "h(\\theta) = \\theta_0 + \\theta_1*x \n",
    "$$\n",
    "to all data points (x,y), such that the error\n",
    "$$\n",
    "E(\\theta) = \\sum(h(\\theta)-y)^2 $$ is minimized. In this task we will manually change the values of theta0 and theta1 such that we obtain the smallest possible error. \n"
   ]
  },
  {
   "cell_type": "code",
   "execution_count": 31,
   "metadata": {},
   "outputs": [],
   "source": [
    "# define the function h(theta)\n",
    "def h(theta0, theta1, x):\n",
    "    \"\"\"\n",
    "    Return the model theta0 + theta1*x\n",
    "    \n",
    "    \"\"\"\n",
    "    return theta0 + theta1*x"
   ]
  },
  {
   "cell_type": "markdown",
   "metadata": {},
   "source": [
    "### Activity 2.1 - Define the square loss (L2) function\n",
    "Define the function, sqerror that computes the error based on the arguments provided. The function h(theta) is as defined above. Assume that x and y are the observed vectors. We use the average square loss or L2 loss in this case. Note that we assume global x and y vectors and do not pass them to the sqerror function and other functions that follow. This is a bad practice, but for the sake of simplicity we will do that."
   ]
  },
  {
   "cell_type": "code",
   "execution_count": 40,
   "metadata": {},
   "outputs": [
    {
     "data": {
      "text/plain": [
       "0.006954473867595818"
      ]
     },
     "execution_count": 40,
     "metadata": {},
     "output_type": "execute_result"
    }
   ],
   "source": [
    "import numpy as np\n",
    "\n",
    "## BEGIN SOLUTION\n",
    "def sqerror(theta0, theta1):\n",
    "    \"\"\"\n",
    "    Input: parameters theta0 and theta1 of the model \n",
    "    Input: x, y vectors\n",
    "    Returns: L2 square error sum\n",
    "    Assumptions: none\n",
    "    \"\"\"\n",
    "    n = len(scaleo)\n",
    "#     a = 0.5\n",
    "    return sum(.5*((h(theta0,theta1,x)-y)*(h(theta0,theta1,x)-y)))/n\n",
    "    \n",
    "## END SOLUTION\n",
    "\n",
    "## testing\n",
    "sqerror(0.29,0.52)"
   ]
  },
  {
   "cell_type": "markdown",
   "metadata": {},
   "source": [
    "### Activity 2.2 - Define the L1 Absolute error function\n",
    "Define the function, abserror that computes the avarega absolute error based on the arguments provided. The function h(theta) is as defined above. Assume that x and y are the observed vectors. We use the average abssolute error in this case."
   ]
  },
  {
   "cell_type": "code",
   "execution_count": 39,
   "metadata": {},
   "outputs": [
    {
     "data": {
      "text/plain": [
       "0.09514285714285714"
      ]
     },
     "execution_count": 39,
     "metadata": {},
     "output_type": "execute_result"
    }
   ],
   "source": [
    "import numpy as np\n",
    "import math\n",
    "\n",
    "## BEGIN SOLUTION\n",
    "def abserror(theta0, theta1):\n",
    "    \"\"\"\n",
    "    Input: parameters theta0 and theta1 of the model \n",
    "    Input: x, y vectors\n",
    "    Returns: L1 error sum\n",
    "    Assumptions: none\n",
    "    \"\"\"\n",
    "    n = len(scaleo)\n",
    "    return sum(abs((h(theta0,theta1,x)-y)))/n\n",
    "   \n",
    "\n",
    "## END SOLUTION\n",
    "\n",
    "## testing\n",
    "abserror(0.29,0.52)"
   ]
  },
  {
   "attachments": {
    "image.png": {
     "image/png": "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"
    }
   },
   "cell_type": "markdown",
   "metadata": {},
   "source": [
    "### Activity 2.3 - Define the Pseudo Huber loss function\n",
    "Define the function, phuberror that computes the pseudo huber error based on the two arguments provided. The function h(theta) is as defined above. Assume that x and y are the observed vectors. The equation for this function is given by \n",
    "![image.png](attachment:image.png)\n",
    "The following function finds the average huber error."
   ]
  },
  {
   "cell_type": "code",
   "execution_count": 57,
   "metadata": {},
   "outputs": [
    {
     "data": {
      "text/plain": [
       "0.5725415917504434"
      ]
     },
     "execution_count": 57,
     "metadata": {},
     "output_type": "execute_result"
    }
   ],
   "source": [
    "import numpy as np\n",
    "import math\n",
    "\n",
    "## BEGIN SOLUTION\n",
    "def huberror(theta0, theta1, delta):\n",
    "    \"\"\"\n",
    "    Input: parameters theta0 and theta1 of the model \n",
    "    Input: x, y vectors\n",
    "    Returns: psuedo huber error\n",
    "    Assumptions: none\n",
    "    \"\"\"\n",
    "    a = h(theta0,theta1,x)- y\n",
    "    delta_sq = delta*delta\n",
    "    sq_stuff = np.sqrt(1+np.square((a/delta)))\n",
    "    \n",
    "    return sum(delta_sq*(sq_stuff-1))\n",
    "    \n",
    "#     \n",
    "#     theta_stuff = (theta0+theta1*x-y)*(theta0+theta1*x-y)\n",
    "    \n",
    "#     sq_stuff = np.sqrt(1+(theta_stuff/delta_sq)-1)\n",
    "#     print(sq_stuff)\n",
    "    \n",
    "#     return delta_sq*sq_stuff\n",
    "    \n",
    "\n",
    "## END SOLUTION\n",
    "\n",
    "## testing\n",
    "huberror(0.29,0.52,0.1)"
   ]
  },
  {
   "cell_type": "markdown",
   "metadata": {},
   "source": [
    "### Activity 2.4 Interactive Exploration.\n",
    "Let us initialize the interat widget (as in Lab5) to create sliders that allows us to change the values of theta0 and theta1 and see how things change. Complete the function f below. The function is expected to get two values theta0 and theta1 and plot both the observed points (x,y) and the regression line on the same plot. It also needs to compute the error and display and error."
   ]
  },
  {
   "cell_type": "code",
   "execution_count": 44,
   "metadata": {},
   "outputs": [
    {
     "name": "stderr",
     "output_type": "stream",
     "text": [
      "Enabling notebook extension jupyter-js-widgets/extension...\n",
      "      - Validating: ok\n"
     ]
    }
   ],
   "source": [
    "from ipywidgets import interact\n",
    "!jupyter nbextension enable --py widgetsnbextension"
   ]
  },
  {
   "cell_type": "code",
   "execution_count": 58,
   "metadata": {},
   "outputs": [
    {
     "data": {
      "application/vnd.jupyter.widget-view+json": {
       "model_id": "21607b0e46684a66b1bd7f2344c87f33",
       "version_major": 2,
       "version_minor": 0
      },
      "text/plain": [
       "interactive(children=(FloatSlider(value=0.0, description='theta0', max=1.0), FloatSlider(value=0.0, descriptio…"
      ]
     },
     "metadata": {},
     "output_type": "display_data"
    }
   ],
   "source": [
    "# interactive panel\n",
    "import pylab\n",
    "import numpy\n",
    "\n",
    "def f(theta0, theta1):\n",
    "    \"\"\"\n",
    "    Plot the line and points in an interactive panel\n",
    "    \"\"\"\n",
    "    # plot the line for theta0 and theta1\n",
    "    y = h(theta0, theta1, x) \n",
    "    # compose plot\n",
    "    pylab.plot(x,y) \n",
    "    \n",
    "    # compute the L2 error for theta0 and theta1 for 5 decimal places\n",
    "    sqerr = round(sqerror(theta0, theta1),6)\n",
    "    # compute the absolute or L1 error for theta0 and theta1\n",
    "    abserr = round(abserror(theta0, theta1),4)\n",
    "    # compute the phub error for theta0 and theta1\n",
    "    huberr = round(huberror(theta0, theta1,0.01),4)\n",
    "    pylab.title('L1=' + str(abserr) + '  L2=' + str(sqerr) + '  hub=' + str(huberr))\n",
    "    \n",
    "    # plot the points\n",
    "    x1 = X_scaled_values   \n",
    "    y1 = Y_scaled_values\n",
    "    pylab.scatter(x1, y1, alpha=0.5)\n",
    "    pylab.show() # show the plot  \n",
    "\n",
    "interact(f, theta1=(0,1,0.1), theta0=(0,1,0.1));\n"
   ]
  },
  {
   "cell_type": "markdown",
   "metadata": {},
   "source": [
    "### Activity 2.5 Record the best values for each error function\n",
    "Write the \"best\" values you found for theta0 (y-intercept) and theta1 (slope) and the error. \n",
    "This error is the minimum you have observed based on the manual exploration using the widget \n",
    "above."
   ]
  },
  {
   "cell_type": "code",
   "execution_count": 59,
   "metadata": {},
   "outputs": [],
   "source": [
    "\n",
    "\n",
    "# BEST VALUES FOR AVE SQUARE ERROR\n",
    "theta0 = 0\n",
    "theta1 = 1\n",
    "error = 0\n",
    "# BEST VALUES FOR AVE ABS ERROR\n",
    "theta0 = 0\n",
    "theta1 = 1\n",
    "error = 0\n",
    "\n",
    "# BEST VALUES FOR AVE HUBER ERROR\n",
    "theta0 = 0\n",
    "theta1 = 1\n",
    "error = 0"
   ]
  },
  {
   "cell_type": "markdown",
   "metadata": {},
   "source": [
    "# Task 3 - Gradient Descent\n",
    "In this task we need to use the Gradient descent methods to find a \"better\" values for theta0 and theta1 that minimizes the error. Gradient descent is an iterative algorithm. It computes values of theta0 and theta1 in the direction of reaching the minimum point in the graph. The iterative formulas for theta0 and theta1 are given by:\n",
    "$$\n",
    "\\theta_0 = \\theta_0 - \\alpha*(\\sum(\\theta_1*x_j + \\theta_0)-y_j)\n",
    "$$\n",
    "$$\n",
    "\\theta_1 = \\theta_1 - \\alpha*(\\sum(\\theta_1*x_j + \\theta_0 - y_j)*x_j\n",
    "$$\n",
    "\n",
    "The alpha is called the \"learning rate\". It is important to pick a good value for alpha so that convergence is not too slow (small alpha) or at the risk of over shooting the minimum point (large alpha). You may have to experiemnt with few alphas to find something that works."
   ]
  },
  {
   "cell_type": "markdown",
   "metadata": {},
   "source": [
    "### Activity 3.1 Compute using Gradient Descent algorithm (L2 loss)"
   ]
  },
  {
   "cell_type": "code",
   "execution_count": 62,
   "metadata": {},
   "outputs": [
    {
     "ename": "UnboundLocalError",
     "evalue": "local variable 'theta0' referenced before assignment",
     "output_type": "error",
     "traceback": [
      "\u001b[1;31m---------------------------------------------------------------------------\u001b[0m",
      "\u001b[1;31mUnboundLocalError\u001b[0m                         Traceback (most recent call last)",
      "\u001b[1;32m<ipython-input-62-ef1fc2ea3e04>\u001b[0m in \u001b[0;36m<module>\u001b[1;34m\u001b[0m\n\u001b[0;32m     19\u001b[0m \u001b[1;31m# END SOLUTION\u001b[0m\u001b[1;33m\u001b[0m\u001b[1;33m\u001b[0m\u001b[1;33m\u001b[0m\u001b[0m\n\u001b[0;32m     20\u001b[0m \u001b[1;33m\u001b[0m\u001b[0m\n\u001b[1;32m---> 21\u001b[1;33m \u001b[1;33m[\u001b[0m\u001b[0mtheta0\u001b[0m\u001b[1;33m,\u001b[0m\u001b[0mtheta1\u001b[0m\u001b[1;33m,\u001b[0m\u001b[0mnewError\u001b[0m\u001b[1;33m,\u001b[0m\u001b[0miterations\u001b[0m\u001b[1;33m]\u001b[0m \u001b[1;33m=\u001b[0m \u001b[0mgd2\u001b[0m\u001b[1;33m(\u001b[0m\u001b[0mx\u001b[0m\u001b[1;33m,\u001b[0m\u001b[0my\u001b[0m\u001b[1;33m,\u001b[0m\u001b[1;36m0.01\u001b[0m\u001b[1;33m,\u001b[0m\u001b[1;36m0.0001\u001b[0m\u001b[1;33m)\u001b[0m\u001b[1;33m\u001b[0m\u001b[1;33m\u001b[0m\u001b[0m\n\u001b[0m\u001b[0;32m     22\u001b[0m \u001b[0mprint\u001b[0m\u001b[1;33m(\u001b[0m\u001b[0miterations\u001b[0m\u001b[1;33m)\u001b[0m\u001b[1;33m\u001b[0m\u001b[1;33m\u001b[0m\u001b[0m\n",
      "\u001b[1;32m<ipython-input-62-ef1fc2ea3e04>\u001b[0m in \u001b[0;36mgd2\u001b[1;34m(obsX, obsY, alpha, threshold)\u001b[0m\n\u001b[0;32m     12\u001b[0m     \"\"\"\n\u001b[0;32m     13\u001b[0m     \u001b[1;31m# compute the absolute or L1 error for theta0 and theta1\u001b[0m\u001b[1;33m\u001b[0m\u001b[1;33m\u001b[0m\u001b[1;33m\u001b[0m\u001b[0m\n\u001b[1;32m---> 14\u001b[1;33m     \u001b[0mabserr\u001b[0m \u001b[1;33m=\u001b[0m \u001b[0mround\u001b[0m\u001b[1;33m(\u001b[0m\u001b[0mabserror\u001b[0m\u001b[1;33m(\u001b[0m\u001b[0mtheta0\u001b[0m\u001b[1;33m,\u001b[0m \u001b[0mtheta1\u001b[0m\u001b[1;33m)\u001b[0m\u001b[1;33m,\u001b[0m\u001b[1;36m4\u001b[0m\u001b[1;33m)\u001b[0m\u001b[1;33m\u001b[0m\u001b[1;33m\u001b[0m\u001b[0m\n\u001b[0m\u001b[0;32m     15\u001b[0m     \u001b[0mtheta0\u001b[0m \u001b[1;33m=\u001b[0m \u001b[0mtheta0\u001b[0m \u001b[1;33m-\u001b[0m \u001b[0malpha\u001b[0m\u001b[1;33m*\u001b[0m\u001b[1;33m(\u001b[0m\u001b[0msum\u001b[0m\u001b[1;33m(\u001b[0m\u001b[0mtheta1\u001b[0m\u001b[1;33m*\u001b[0m\u001b[0mx\u001b[0m\u001b[1;33m+\u001b[0m\u001b[0mtheta0\u001b[0m\u001b[1;33m)\u001b[0m\u001b[1;33m-\u001b[0m\u001b[0my\u001b[0m\u001b[1;33m)\u001b[0m\u001b[1;33m\u001b[0m\u001b[1;33m\u001b[0m\u001b[0m\n\u001b[0;32m     16\u001b[0m     \u001b[0mtheta1\u001b[0m \u001b[1;33m=\u001b[0m \u001b[0mtheta1\u001b[0m \u001b[1;33m-\u001b[0m \u001b[0malpha\u001b[0m\u001b[1;33m*\u001b[0m\u001b[1;33m(\u001b[0m\u001b[0msum\u001b[0m\u001b[1;33m(\u001b[0m\u001b[0mtheta1\u001b[0m\u001b[1;33m*\u001b[0m\u001b[0mx\u001b[0m\u001b[1;33m+\u001b[0m\u001b[0mtheta0\u001b[0m\u001b[1;33m-\u001b[0m\u001b[0my\u001b[0m\u001b[1;33m)\u001b[0m\u001b[1;33m*\u001b[0m\u001b[0mx\u001b[0m\u001b[1;33m)\u001b[0m\u001b[1;33m\u001b[0m\u001b[1;33m\u001b[0m\u001b[0m\n",
      "\u001b[1;31mUnboundLocalError\u001b[0m: local variable 'theta0' referenced before assignment"
     ]
    }
   ],
   "source": [
    "# given the observed data (obsX,obsY), learning rate (alpha), and desired error threshold, \n",
    "# the function returns theta0 and theta1\n",
    "# that reach the error threshold.\n",
    "# The convergence is reached when the newError - oldError is less than the threshold.\n",
    "\n",
    "# BEGIN SOLUTION  \n",
    "def gd2(obsX, obsY, alpha, threshold):\n",
    "    \"\"\"\n",
    "    Input : observed vectors X, Y, alpha and threshold\n",
    "    Return theta0, theta1 from Gradient Descent L2 loss algorithm\n",
    "    Return: Iterations and L2 Error\n",
    "    \"\"\"\n",
    "    # compute the absolute or L1 error for theta0 and theta1\n",
    "    abserr = round(abserror(theta0, theta1),4)\n",
    "    theta0 = theta0 - alpha*(sum(theta1*x+theta0)-y)\n",
    "    theta1 = theta1 - alpha*(sum(theta1*x+theta0-y)*x)\n",
    "    \n",
    "    return theta0,theta1\n",
    "# END SOLUTION\n",
    "\n",
    "[theta0,theta1,newError,iterations] = gd2(x,y,0.01,0.0001)\n",
    "print(iterations)"
   ]
  },
  {
   "cell_type": "code",
   "execution_count": 31,
   "metadata": {},
   "outputs": [
    {
     "data": {
      "text/plain": [
       "(0.22882951641809623, 0.6457788342997017)"
      ]
     },
     "execution_count": 31,
     "metadata": {},
     "output_type": "execute_result"
    }
   ],
   "source": [
    "# observe theta0 and theta1\n",
    "theta0, theta1"
   ]
  },
  {
   "cell_type": "markdown",
   "metadata": {},
   "source": [
    "### Activity 3.2 Compute Gradient Descent (Huber)\n",
    "First Compute a formula for huber gradient descent using derivative methods discussed in class. Similar to L2 descent, use the new formulas (obtained from huber derivatives) to compute values of theta1, theta1, error"
   ]
  },
  {
   "cell_type": "code",
   "execution_count": 37,
   "metadata": {},
   "outputs": [
    {
     "name": "stdout",
     "output_type": "stream",
     "text": [
      "0.00013807695769092393 1.000009676383261 0.0015232223158018678\n",
      "0.0002757532114284675 1.0000191095518554 0.001522932898178763\n",
      "2\n"
     ]
    }
   ],
   "source": [
    "# given the observed data (obsX,obsY), learning rate (alpha), and desired error, \n",
    "# the function returns theta0, theta1, error and iterations\n",
    "# that reaches a minimum error threshold\n",
    "\n",
    "## BEGIN SOLUTION\n",
    "\n",
    "def gdh(obsX, obsY, alpha, threshold, delta):\n",
    "    \"\"\"\n",
    "    Input : observed vectors X, Y, alpha and threshold\n",
    "    Return theta0, theta1 from Gradient Descent huber loss algorithm\n",
    "    Return: Iterations and huber Error\n",
    "    \"\"\"\n",
    "    \n",
    "    \n",
    " \n",
    "## END SOLUTION\n",
    "# testing    \n",
    "[theta0,theta1,newError,iterations] = gdh(x,y,0.01,0.000001,0.01)\n",
    "print(iterations)"
   ]
  },
  {
   "cell_type": "markdown",
   "metadata": {},
   "source": [
    "### Activity 3.2\n",
    "1. Write the values of theta0, theta1, alpha, error that provided the minimum value through gradient descent\n",
    "2. Experiment the new values of theta0, theta1 to see if the interactive widget shows similar things.\n",
    "\n",
    "##### BEGIN ANSWER\n",
    "\n",
    "\n",
    "\n",
    "##### END ANSWER"
   ]
  },
  {
   "cell_type": "markdown",
   "metadata": {},
   "source": [
    "### Activity 3.3 Compare with Library Estimators\n",
    "Now use the sklearn LinearRegression module to automate this process. What coefficients do you get? Are they close to what you received from gradient descent? Find the error from sklearn package. Is that error smaller or bigger than the squared error you received?"
   ]
  },
  {
   "cell_type": "code",
   "execution_count": 63,
   "metadata": {},
   "outputs": [
    {
     "ename": "ValueError",
     "evalue": "Expected 2D array, got 1D array instead:\narray=[0.37857143 0.55714286 0.7        0.65       0.78571429 0.47857143\n 0.32142857 0.80714286 0.58571429 0.06428571 0.53571429 0.46428571\n 0.42142857 0.83571429 0.35       0.         0.65       0.48571429\n 0.55       0.49285714 1.         0.6        0.31428571 0.61428571\n 0.55714286 0.48571429 0.04285714 0.5        0.23571429 0.73571429\n 0.59285714 0.48571429 0.15714286 0.83571429 0.14285714 0.35\n 0.41428571 0.62142857 1.         0.70714286 0.56428571 0.9\n 0.73571429 0.24285714 0.41428571 0.65       0.52142857 0.65714286\n 0.38571429 0.4        0.55       0.52857143 0.46428571 0.81428571\n 0.6        0.54285714 0.1        0.50714286 0.2        0.63571429\n 0.25714286 0.94285714 0.36428571 0.53571429 0.8        0.34285714\n 0.65       0.67142857 0.60714286 0.31428571 0.72142857 0.55714286\n 0.78571429 0.31428571 0.95714286 0.17857143 0.68571429 0.44285714\n 0.69285714 0.17857143 0.47142857 0.52857143 0.27142857 0.45\n 0.52857143 0.48571429 0.74285714 0.25714286 0.85714286 0.29285714\n 0.58571429 0.70714286 0.65714286 0.27857143 0.78571429 0.25\n 0.3        0.58571429 0.97142857 0.02857143 0.95       0.44285714\n 0.34285714 0.48571429 0.40714286 0.7        0.19285714 0.37857143\n 0.82142857 0.87142857 0.47857143 0.04285714 0.93571429 0.47857143\n 0.74285714 0.63571429 0.35714286 0.82857143 0.51428571 0.22142857\n 0.79285714 0.92142857 0.6       ].\nReshape your data either using array.reshape(-1, 1) if your data has a single feature or array.reshape(1, -1) if it contains a single sample.",
     "output_type": "error",
     "traceback": [
      "\u001b[1;31m---------------------------------------------------------------------------\u001b[0m",
      "\u001b[1;31mValueError\u001b[0m                                Traceback (most recent call last)",
      "\u001b[1;32m<ipython-input-63-ec66b11d9b6c>\u001b[0m in \u001b[0;36m<module>\u001b[1;34m\u001b[0m\n\u001b[0;32m      1\u001b[0m \u001b[1;32mfrom\u001b[0m \u001b[0msklearn\u001b[0m\u001b[1;33m.\u001b[0m\u001b[0mlinear_model\u001b[0m \u001b[1;32mimport\u001b[0m \u001b[0mLinearRegression\u001b[0m\u001b[1;33m\u001b[0m\u001b[1;33m\u001b[0m\u001b[0m\n\u001b[0;32m      2\u001b[0m \u001b[0mlm\u001b[0m \u001b[1;33m=\u001b[0m \u001b[0mLinearRegression\u001b[0m\u001b[1;33m(\u001b[0m\u001b[1;33m)\u001b[0m\u001b[1;33m\u001b[0m\u001b[1;33m\u001b[0m\u001b[0m\n\u001b[1;32m----> 3\u001b[1;33m \u001b[0mresult\u001b[0m \u001b[1;33m=\u001b[0m \u001b[0mlm\u001b[0m\u001b[1;33m.\u001b[0m\u001b[0mfit\u001b[0m\u001b[1;33m(\u001b[0m\u001b[0mx\u001b[0m\u001b[1;33m,\u001b[0m\u001b[0my\u001b[0m\u001b[1;33m)\u001b[0m\u001b[1;33m\u001b[0m\u001b[1;33m\u001b[0m\u001b[0m\n\u001b[0m\u001b[0;32m      4\u001b[0m \u001b[0mprint\u001b[0m\u001b[1;33m(\u001b[0m\u001b[0mresult\u001b[0m\u001b[1;33m.\u001b[0m\u001b[0mintercept_\u001b[0m\u001b[1;33m)\u001b[0m\u001b[1;33m\u001b[0m\u001b[1;33m\u001b[0m\u001b[0m\n\u001b[0;32m      5\u001b[0m \u001b[0mprint\u001b[0m\u001b[1;33m(\u001b[0m\u001b[0mresult\u001b[0m\u001b[1;33m.\u001b[0m\u001b[0mcoef_\u001b[0m\u001b[1;33m)\u001b[0m\u001b[1;33m\u001b[0m\u001b[1;33m\u001b[0m\u001b[0m\n",
      "\u001b[1;32m~\\AppData\\Local\\Programs\\Python\\Python37-32\\lib\\site-packages\\sklearn\\linear_model\\base.py\u001b[0m in \u001b[0;36mfit\u001b[1;34m(self, X, y, sample_weight)\u001b[0m\n\u001b[0;32m    456\u001b[0m         \u001b[0mn_jobs_\u001b[0m \u001b[1;33m=\u001b[0m \u001b[0mself\u001b[0m\u001b[1;33m.\u001b[0m\u001b[0mn_jobs\u001b[0m\u001b[1;33m\u001b[0m\u001b[1;33m\u001b[0m\u001b[0m\n\u001b[0;32m    457\u001b[0m         X, y = check_X_y(X, y, accept_sparse=['csr', 'csc', 'coo'],\n\u001b[1;32m--> 458\u001b[1;33m                          y_numeric=True, multi_output=True)\n\u001b[0m\u001b[0;32m    459\u001b[0m \u001b[1;33m\u001b[0m\u001b[0m\n\u001b[0;32m    460\u001b[0m         \u001b[1;32mif\u001b[0m \u001b[0msample_weight\u001b[0m \u001b[1;32mis\u001b[0m \u001b[1;32mnot\u001b[0m \u001b[1;32mNone\u001b[0m \u001b[1;32mand\u001b[0m \u001b[0mnp\u001b[0m\u001b[1;33m.\u001b[0m\u001b[0matleast_1d\u001b[0m\u001b[1;33m(\u001b[0m\u001b[0msample_weight\u001b[0m\u001b[1;33m)\u001b[0m\u001b[1;33m.\u001b[0m\u001b[0mndim\u001b[0m \u001b[1;33m>\u001b[0m \u001b[1;36m1\u001b[0m\u001b[1;33m:\u001b[0m\u001b[1;33m\u001b[0m\u001b[1;33m\u001b[0m\u001b[0m\n",
      "\u001b[1;32m~\\AppData\\Local\\Programs\\Python\\Python37-32\\lib\\site-packages\\sklearn\\utils\\validation.py\u001b[0m in \u001b[0;36mcheck_X_y\u001b[1;34m(X, y, accept_sparse, accept_large_sparse, dtype, order, copy, force_all_finite, ensure_2d, allow_nd, multi_output, ensure_min_samples, ensure_min_features, y_numeric, warn_on_dtype, estimator)\u001b[0m\n\u001b[0;32m    754\u001b[0m                     \u001b[0mensure_min_features\u001b[0m\u001b[1;33m=\u001b[0m\u001b[0mensure_min_features\u001b[0m\u001b[1;33m,\u001b[0m\u001b[1;33m\u001b[0m\u001b[1;33m\u001b[0m\u001b[0m\n\u001b[0;32m    755\u001b[0m                     \u001b[0mwarn_on_dtype\u001b[0m\u001b[1;33m=\u001b[0m\u001b[0mwarn_on_dtype\u001b[0m\u001b[1;33m,\u001b[0m\u001b[1;33m\u001b[0m\u001b[1;33m\u001b[0m\u001b[0m\n\u001b[1;32m--> 756\u001b[1;33m                     estimator=estimator)\n\u001b[0m\u001b[0;32m    757\u001b[0m     \u001b[1;32mif\u001b[0m \u001b[0mmulti_output\u001b[0m\u001b[1;33m:\u001b[0m\u001b[1;33m\u001b[0m\u001b[1;33m\u001b[0m\u001b[0m\n\u001b[0;32m    758\u001b[0m         y = check_array(y, 'csr', force_all_finite=True, ensure_2d=False,\n",
      "\u001b[1;32m~\\AppData\\Local\\Programs\\Python\\Python37-32\\lib\\site-packages\\sklearn\\utils\\validation.py\u001b[0m in \u001b[0;36mcheck_array\u001b[1;34m(array, accept_sparse, accept_large_sparse, dtype, order, copy, force_all_finite, ensure_2d, allow_nd, ensure_min_samples, ensure_min_features, warn_on_dtype, estimator)\u001b[0m\n\u001b[0;32m    550\u001b[0m                     \u001b[1;34m\"Reshape your data either using array.reshape(-1, 1) if \"\u001b[0m\u001b[1;33m\u001b[0m\u001b[1;33m\u001b[0m\u001b[0m\n\u001b[0;32m    551\u001b[0m                     \u001b[1;34m\"your data has a single feature or array.reshape(1, -1) \"\u001b[0m\u001b[1;33m\u001b[0m\u001b[1;33m\u001b[0m\u001b[0m\n\u001b[1;32m--> 552\u001b[1;33m                     \"if it contains a single sample.\".format(array))\n\u001b[0m\u001b[0;32m    553\u001b[0m \u001b[1;33m\u001b[0m\u001b[0m\n\u001b[0;32m    554\u001b[0m         \u001b[1;31m# in the future np.flexible dtypes will be handled like object dtypes\u001b[0m\u001b[1;33m\u001b[0m\u001b[1;33m\u001b[0m\u001b[1;33m\u001b[0m\u001b[0m\n",
      "\u001b[1;31mValueError\u001b[0m: Expected 2D array, got 1D array instead:\narray=[0.37857143 0.55714286 0.7        0.65       0.78571429 0.47857143\n 0.32142857 0.80714286 0.58571429 0.06428571 0.53571429 0.46428571\n 0.42142857 0.83571429 0.35       0.         0.65       0.48571429\n 0.55       0.49285714 1.         0.6        0.31428571 0.61428571\n 0.55714286 0.48571429 0.04285714 0.5        0.23571429 0.73571429\n 0.59285714 0.48571429 0.15714286 0.83571429 0.14285714 0.35\n 0.41428571 0.62142857 1.         0.70714286 0.56428571 0.9\n 0.73571429 0.24285714 0.41428571 0.65       0.52142857 0.65714286\n 0.38571429 0.4        0.55       0.52857143 0.46428571 0.81428571\n 0.6        0.54285714 0.1        0.50714286 0.2        0.63571429\n 0.25714286 0.94285714 0.36428571 0.53571429 0.8        0.34285714\n 0.65       0.67142857 0.60714286 0.31428571 0.72142857 0.55714286\n 0.78571429 0.31428571 0.95714286 0.17857143 0.68571429 0.44285714\n 0.69285714 0.17857143 0.47142857 0.52857143 0.27142857 0.45\n 0.52857143 0.48571429 0.74285714 0.25714286 0.85714286 0.29285714\n 0.58571429 0.70714286 0.65714286 0.27857143 0.78571429 0.25\n 0.3        0.58571429 0.97142857 0.02857143 0.95       0.44285714\n 0.34285714 0.48571429 0.40714286 0.7        0.19285714 0.37857143\n 0.82142857 0.87142857 0.47857143 0.04285714 0.93571429 0.47857143\n 0.74285714 0.63571429 0.35714286 0.82857143 0.51428571 0.22142857\n 0.79285714 0.92142857 0.6       ].\nReshape your data either using array.reshape(-1, 1) if your data has a single feature or array.reshape(1, -1) if it contains a single sample."
     ]
    }
   ],
   "source": [
    "from sklearn.linear_model import LinearRegression\n",
    "lm = LinearRegression()\n",
    "result = lm.fit(x,y)\n",
    "print(result.intercept_)\n",
    "print(result.coef_)"
   ]
  },
  {
   "cell_type": "code",
   "execution_count": 64,
   "metadata": {},
   "outputs": [
    {
     "ename": "NameError",
     "evalue": "name 'result' is not defined",
     "output_type": "error",
     "traceback": [
      "\u001b[1;31m---------------------------------------------------------------------------\u001b[0m",
      "\u001b[1;31mNameError\u001b[0m                                 Traceback (most recent call last)",
      "\u001b[1;32m<ipython-input-64-7191e8983889>\u001b[0m in \u001b[0;36m<module>\u001b[1;34m\u001b[0m\n\u001b[1;32m----> 1\u001b[1;33m \u001b[0mtheta0\u001b[0m \u001b[1;33m=\u001b[0m \u001b[0mresult\u001b[0m\u001b[1;33m.\u001b[0m\u001b[0mintercept_\u001b[0m\u001b[1;33m\u001b[0m\u001b[1;33m\u001b[0m\u001b[0m\n\u001b[0m\u001b[0;32m      2\u001b[0m \u001b[0mtheta1\u001b[0m \u001b[1;33m=\u001b[0m \u001b[0mresult\u001b[0m\u001b[1;33m.\u001b[0m\u001b[0mcoef_\u001b[0m\u001b[1;33m\u001b[0m\u001b[1;33m\u001b[0m\u001b[0m\n\u001b[0;32m      3\u001b[0m \u001b[0msqerror\u001b[0m\u001b[1;33m(\u001b[0m\u001b[0mtheta0\u001b[0m\u001b[1;33m,\u001b[0m\u001b[0mtheta1\u001b[0m\u001b[1;33m)\u001b[0m\u001b[1;33m\u001b[0m\u001b[1;33m\u001b[0m\u001b[0m\n",
      "\u001b[1;31mNameError\u001b[0m: name 'result' is not defined"
     ]
    }
   ],
   "source": [
    "theta0 = result.intercept_\n",
    "theta1 = result.coef_\n",
    "sqerror(theta0,theta1)"
   ]
  },
  {
   "cell_type": "markdown",
   "metadata": {},
   "source": [
    "## Task 4- Predict Your Final Exam Score\n",
    "The regression line was obtained using grades from CS 205 course. We can consider them to be training data. Now we trained a model (with theta0 and theta1) so we can predict the grade for your own course based on your midterm grade.\n",
    "We will do few things before we can accomplish this task."
   ]
  },
  {
   "cell_type": "markdown",
   "metadata": {},
   "source": [
    "### Activity 4.1 Read the midterm grades\n",
    "The grade file for CS439 midterm is given in data/CS439_grades.csv. Read this data file to a new "
   ]
  },
  {
   "cell_type": "code",
   "execution_count": 65,
   "metadata": {},
   "outputs": [
    {
     "name": "stdout",
     "output_type": "stream",
     "text": [
      "<class 'pandas.core.frame.DataFrame'>\n",
      "RangeIndex: 97 entries, 0 to 96\n",
      "Data columns (total 1 columns):\n",
      "midterm    97 non-null float64\n",
      "dtypes: float64(1)\n",
      "memory usage: 816.0 bytes\n",
      "<class 'pandas.core.frame.DataFrame'>\n",
      "Int64Index: 96 entries, 0 to 96\n",
      "Data columns (total 1 columns):\n",
      "midterm    96 non-null float64\n",
      "dtypes: float64(1)\n",
      "memory usage: 1.5 KB\n"
     ]
    }
   ],
   "source": [
    "import pandas as pd\n",
    "df_439 = pd.read_csv(\"data/CS439_grades_03_15_19.csv\")\n",
    "df_439.info()\n",
    "mid = df_439[df_439['midterm']<80]\n",
    "mid.info()"
   ]
  },
  {
   "cell_type": "markdown",
   "metadata": {},
   "source": [
    "### Activity 4.2 Predict your Grade\n",
    "Scale the values in the midterm grades of CS 439 and compute the estimated final exam grade. Note that this is probably not a very good estimator since we are trying to predict final exam just by using a midterm score. However, using more features such as labs and quiz scores can help improve the accuracy. We will do that in a future lab. The output is shown as values scaled back to percentages (100% max)"
   ]
  },
  {
   "cell_type": "code",
   "execution_count": 46,
   "metadata": {},
   "outputs": [
    {
     "name": "stdout",
     "output_type": "stream",
     "text": [
      "61.5 [[61.9]]\n",
      "42.3 [[51.8]]\n",
      "52.6 [[57.2]]\n",
      "12.8 [[36.3]]\n",
      "94.9 [[79.3]]\n",
      "56.4 [[59.2]]\n",
      "39.7 [[50.4]]\n",
      "46.2 [[53.8]]\n",
      "43.6 [[52.5]]\n",
      "21.8 [[41.]]\n",
      "48.7 [[55.1]]\n",
      "43.6 [[52.5]]\n",
      "75.6 [[69.2]]\n",
      "65.4 [[63.9]]\n",
      "52.6 [[57.2]]\n",
      "43.6 [[52.5]]\n",
      "61.5 [[61.9]]\n",
      "42.3 [[51.8]]\n",
      "60.3 [[61.2]]\n",
      "100.0 [[82.]]\n",
      "70.5 [[66.6]]\n",
      "61.5 [[61.9]]\n",
      "0.0 [[29.6]]\n",
      "53.8 [[57.8]]\n",
      "34.6 [[47.8]]\n",
      "83.3 [[73.3]]\n",
      "67.9 [[65.2]]\n",
      "91.0 [[77.3]]\n",
      "29.5 [[45.1]]\n",
      "73.1 [[67.9]]\n",
      "67.9 [[65.2]]\n",
      "2.6 [[31.]]\n",
      "61.5 [[61.9]]\n",
      "69.2 [[65.9]]\n",
      "48.7 [[55.1]]\n",
      "98.7 [[81.3]]\n",
      "34.6 [[47.8]]\n",
      "60.3 [[61.2]]\n",
      "44.9 [[53.1]]\n",
      "50.0 [[55.8]]\n",
      "69.2 [[65.9]]\n",
      "60.3 [[61.2]]\n",
      "83.3 [[73.3]]\n",
      "26.9 [[43.7]]\n",
      "61.5 [[61.9]]\n",
      "20.5 [[40.4]]\n",
      "19.2 [[39.7]]\n",
      "6.4 [[33.]]\n",
      "80.8 [[71.9]]\n",
      "44.9 [[53.1]]\n",
      "26.9 [[43.7]]\n",
      "14.1 [[37.]]\n",
      "67.9 [[65.2]]\n",
      "51.3 [[56.5]]\n",
      "24.4 [[42.4]]\n",
      "78.2 [[70.6]]\n",
      "23.1 [[41.7]]\n",
      "60.3 [[61.2]]\n",
      "71.8 [[67.2]]\n",
      "85.9 [[74.6]]\n",
      "50.0 [[55.8]]\n",
      "37.2 [[49.1]]\n",
      "73.1 [[67.9]]\n",
      "62.8 [[62.5]]\n",
      "59.0 [[60.5]]\n",
      "70.5 [[66.6]]\n",
      "5.1 [[32.3]]\n",
      "34.6 [[47.8]]\n",
      "19.2 [[39.7]]\n",
      "50.0 [[55.8]]\n",
      "67.9 [[65.2]]\n",
      "7.7 [[33.6]]\n",
      "67.9 [[65.2]]\n",
      "67.9 [[65.2]]\n",
      "53.8 [[57.8]]\n",
      "39.7 [[50.4]]\n",
      "43.6 [[52.5]]\n",
      "98.7 [[81.3]]\n",
      "79.5 [[71.3]]\n",
      "88.5 [[76.]]\n",
      "55.1 [[58.5]]\n",
      "65.4 [[63.9]]\n",
      "57.7 [[59.8]]\n",
      "46.2 [[53.8]]\n",
      "51.9 [[56.8]]\n",
      "70.5 [[66.6]]\n",
      "51.3 [[56.5]]\n",
      "43.6 [[52.5]]\n",
      "6.4 [[33.]]\n",
      "30.8 [[45.7]]\n",
      "96.2 [[80.]]\n",
      "69.2 [[65.9]]\n",
      "64.1 [[63.2]]\n",
      "38.5 [[49.8]]\n",
      "42.3 [[51.8]]\n",
      "83.3 [[73.3]]\n"
     ]
    }
   ],
   "source": [
    "from sklearn import preprocessing\n",
    "\n",
    "## BEGIN SOLUTION\n",
    " \n",
    "    \n",
    "## END SOLUTION"
   ]
  },
   ]
  }
 ],
 "metadata": {
  "kernelspec": {
   "display_name": "Python 3",
   "language": "python",
   "name": "python3"
  },
  "language_info": {
   "codemirror_mode": {
    "name": "ipython",
    "version": 3
   },
   "file_extension": ".py",
   "mimetype": "text/x-python",
   "name": "python",
   "nbconvert_exporter": "python",
   "pygments_lexer": "ipython3",
   "version": "3.7.2"
  }
 },
 "nbformat": 4,
 "nbformat_minor": 2
}
